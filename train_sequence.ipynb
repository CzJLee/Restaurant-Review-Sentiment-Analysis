{
  "cells": [
    {
      "cell_type": "markdown",
      "metadata": {
        "id": "gdAAAg_J5PxA"
      },
      "source": [
        "# Sequence Model - Sequence Vectorization Embedding Approach"
      ]
    },
    {
      "cell_type": "code",
      "execution_count": null,
      "metadata": {
        "id": "LMGcv9V25PxE"
      },
      "outputs": [],
      "source": [
        "import numpy as np\n",
        "import pandas as pd\n",
        "import tensorflow as tf\n",
        "from tensorflow import keras\n",
        "from tensorflow.keras.layers import TextVectorization\n",
        "from sklearn.utils import shuffle\n",
        "from sklearn.metrics import mean_absolute_error, mean_squared_error"
      ]
    },
    {
      "cell_type": "code",
      "execution_count": null,
      "metadata": {
        "colab": {
          "base_uri": "https://localhost:8080/"
        },
        "id": "86aQbViP9NjE",
        "outputId": "499a0b41-e315-4242-cc34-c6ccaa4ab31e"
      },
      "outputs": [],
      "source": [
        "# Check if Google Colab Instance for Setup\n",
        "print(\"Tensorflow version \" + tf.__version__)\n",
        "\n",
        "# Get correct path if on Google Colab\n",
        "try:\n",
        "\tfrom google.colab import drive\n",
        "\tdrive.mount(\"/content/drive\")\n",
        "\treviews_dataset_path = \"drive/MyDrive/Colab Notebooks/reviews.json\"\n",
        "\n",
        "\t# Get RAM Info\n",
        "\tfrom psutil import virtual_memory\n",
        "\tram_gb = virtual_memory().total / 1e9\n",
        "\tprint('Your runtime has {:.1f} gigabytes of available RAM'.format(ram_gb))\n",
        "\n",
        "\tif ram_gb < 20:\n",
        "\t\tprint('Not using a high-RAM runtime')\n",
        "\telse:\n",
        "\t\tprint('You are using a high-RAM runtime!')\n",
        "\n",
        "\ttry:\n",
        "\t\ttpu = tf.distribute.cluster_resolver.TPUClusterResolver() # TPU detection\n",
        "\t\tprint('Running on TPU ', tpu.cluster_spec().as_dict()['worker'])\n",
        "\n",
        "\t\ttf.config.experimental_connect_to_cluster(tpu)\n",
        "\t\ttf.tpu.experimental.initialize_tpu_system(tpu)\n",
        "\t\ttpu_strategy = tf.distribute.TPUStrategy(tpu)\n",
        "\n",
        "\t\tusing_tpu = True\n",
        "\texcept ValueError:\n",
        "\t\tprint(\"Note: Not connected to a TPU runtime.\")\n",
        "\t\tusing_tpu = False\n",
        "except ModuleNotFoundError:\n",
        "\treviews_dataset_path = \"yelp_dataset/reviews.json\"\n",
        "\tusing_tpu = False\n",
        "\n",
        "AUTO = tf.data.AUTOTUNE"
      ]
    },
    {
      "cell_type": "code",
      "execution_count": null,
      "metadata": {
        "id": "NsuxbHGn5PxH"
      },
      "outputs": [],
      "source": [
        "# Read dataset into memory\n",
        "review_df = pd.read_json(reviews_dataset_path, orient=\"records\", lines=True)"
      ]
    },
    {
      "cell_type": "code",
      "execution_count": null,
      "metadata": {
        "id": "FuZakueW5PxH"
      },
      "outputs": [],
      "source": [
        "# Shuffle Review df\n",
        "review_df = shuffle(review_df, random_state=0)\n",
        "\n",
        "# Slice into Train, Val, Test at 60:20:20\n",
        "n = len(review_df)\n",
        "df_train = review_df.iloc[: int(n*0.6)]\n",
        "df_val = review_df.iloc[int(n*0.6) : int(n*0.8)]\n",
        "df_test = review_df.iloc[int(n*0.8) :]"
      ]
    },
    {
      "cell_type": "code",
      "execution_count": null,
      "metadata": {
        "id": "2VDEKEMh5PxI"
      },
      "outputs": [],
      "source": [
        "# Convert Pandas DF to TF Dataset\n",
        "if using_tpu:\n",
        "\t# TPU's really like big batches I guess. \n",
        "\t# By increasing the batch size by a factor of 128, I am seeing about a 4x speedup. \n",
        "\tbatch_size = 16 * 128 * tpu_strategy.num_replicas_in_sync\n",
        "else:\n",
        "\tbatch_size = 128\n",
        "\n",
        "def convert_text_df_to_dataset(df, input_col=\"text\", target_col=\"stars\"):\n",
        "\ttext_input = tf.convert_to_tensor(df[input_col], dtype=tf.string)\n",
        "\ttarget = tf.convert_to_tensor(df[target_col], dtype=tf.int8)\n",
        "\tdataset = tf.data.Dataset.from_tensor_slices((text_input, target))\n",
        "\tdataset = dataset.batch(batch_size).prefetch(AUTO)\n",
        "\treturn dataset\n",
        "\n",
        "train_dataset = convert_text_df_to_dataset(df_train)\n",
        "val_dataset = convert_text_df_to_dataset(df_val)\n",
        "test_dataset = convert_text_df_to_dataset(df_test)"
      ]
    },
    {
      "cell_type": "markdown",
      "metadata": {
        "id": "MJMVRzNi9NjH"
      },
      "source": [
        "## Train Model"
      ]
    },
    {
      "cell_type": "code",
      "execution_count": null,
      "metadata": {
        "id": "LRLqLaNb9NjI"
      },
      "outputs": [],
      "source": [
        "# Build Model\n",
        "def create_embedding_model(max_tokens, model_name):\n",
        "\tinputs = keras.Input(shape=(None,), dtype=\"int64\")\n",
        "\tembedded = keras.layers.Embedding(input_dim=max_tokens, output_dim=512, mask_zero=True)(inputs)\n",
        "\tx = keras.layers.Bidirectional(keras.layers.LSTM(64))(embedded)\n",
        "\tx = keras.layers.Dropout(0.25)(x)\n",
        "\tx = keras.layers.Bidirectional(keras.layers.LSTM(32))(x)\n",
        "\tx = keras.layers.Dropout(0.25)(x)\n",
        "\toutputs = keras.layers.Dense(1)(x)\n",
        "\n",
        "\tmodel = keras.Model(inputs, outputs, name=model_name)\n",
        "\n",
        "\tmodel.compile(optimizer=\"rmsprop\", loss=\"mean_absolute_error\", metrics=[\"mean_squared_error\"])\n",
        "\n",
        "\treturn model"
      ]
    },
    {
      "cell_type": "markdown",
      "metadata": {
        "id": "FpoDsw8L9NjJ"
      },
      "source": [
        "### Single Word Vectorization"
      ]
    },
    {
      "cell_type": "code",
      "execution_count": null,
      "metadata": {
        "id": "1w6XcKnv9NjK"
      },
      "outputs": [],
      "source": [
        "# Create TextVectorization\n",
        "max_tokens = 30000\n",
        "max_length = 1000\n",
        "text_vectorization = TextVectorization(max_tokens=max_tokens, output_mode=\"int\", output_sequence_length=max_length)\n",
        "\n",
        "# Train Vectorizer on train text\n",
        "text_vectorization.adapt(df_train[\"text\"])\n",
        "\n",
        "# Vectorize Datasets\n",
        "train_dataset_vectorized = train_dataset.map(lambda x, y: (text_vectorization(x), y), num_parallel_calls=AUTO)\n",
        "val_dataset_vectorized = val_dataset.map(lambda x, y: (text_vectorization(x), y), num_parallel_calls=AUTO)\n",
        "test_dataset_vectorized = test_dataset.map(lambda x, y: (text_vectorization(x), y), num_parallel_calls=AUTO)"
      ]
    },
    {
      "cell_type": "code",
      "execution_count": null,
      "metadata": {
        "colab": {
          "base_uri": "https://localhost:8080/"
        },
        "id": "CurWMIQQ5PxK",
        "outputId": "d3b1c2b7-27c0-4480-cab0-9627cadb294c"
      },
      "outputs": [],
      "source": [
        "model_name = \"sequence_embedded\"\n",
        "\n",
        "# Creating the model in the TPUStrategy scope means we will train the model on the TPU\n",
        "if using_tpu:\n",
        "\twith tpu_strategy.scope():\n",
        "\t\tmodel = create_embedding_model(max_tokens, model_name)\n",
        "else:\n",
        "\tmodel = create_embedding_model(max_tokens, model_name)\n",
        "\n",
        "# Create callback to save model with a given name\n",
        "model_path = f\"models/{model_name}.keras\"\n",
        "callbacks = [\n",
        "\tkeras.callbacks.ModelCheckpoint(model_path, monitor='val_loss', save_best_only=True),\n",
        "\tkeras.callbacks.EarlyStopping(monitor='val_loss', min_delta=0.01, patience=5, verbose=1, restore_best_weights=False)\n",
        "]\n",
        "\n",
        "# Train Model\n",
        "model.fit(train_dataset_vectorized, validation_data=val_dataset_vectorized, epochs=20, callbacks=callbacks)\n",
        "\n",
        "# Evaluate Model after training\n",
        "model = keras.models.load_model(model_path)\n",
        "eval = model.evaluate(test_dataset_vectorized)\n",
        "\n",
        "# Output Model Metrics\n",
        "metrics_text = f\"Model {model_name} with MAE {eval[0]:.3f} and MSE {eval[1]:.3f}\\n\"\n",
        "print(metrics_text)\n",
        "with open(\"model_metrics.txt\", \"a\") as f:\n",
        "\tf.write(metrics_text)"
      ]
    },
    {
      "cell_type": "markdown",
      "metadata": {
        "id": "zHSkABXa9NjR"
      },
      "source": [
        "### Categorical Classification"
      ]
    },
    {
      "cell_type": "code",
      "execution_count": null,
      "metadata": {
        "id": "l-ycaHD89NjS"
      },
      "outputs": [],
      "source": [
        "# Build Model\n",
        "def create_embedding_model_categorical(max_tokens, model_name):\n",
        "\tinputs = keras.Input(shape=(None,), dtype=\"int64\")\n",
        "\tembedded = keras.layers.Embedding(input_dim=max_tokens, output_dim=512, mask_zero=True)(inputs)\n",
        "\tx = keras.layers.Bidirectional(keras.layers.LSTM(64))(embedded)\n",
        "\tx = keras.layers.Dropout(0.25)(x)\n",
        "\tx = keras.layers.Bidirectional(keras.layers.LSTM(32))(x)\n",
        "\tx = keras.layers.Dropout(0.25)(x)\n",
        "\toutputs = keras.layers.Dense(6, activation=\"softmax\")(x)\n",
        "\n",
        "\tmodel = keras.Model(inputs, outputs, name=model_name)\n",
        "\n",
        "\tmodel.compile(optimizer=\"rmsprop\", loss=\"sparse_categorical_crossentropy\", metrics=[\"sparse_categorical_accuracy\"])\n",
        "\n",
        "\treturn model"
      ]
    },
    {
      "cell_type": "code",
      "execution_count": null,
      "metadata": {
        "id": "FmMnCObF9NjS"
      },
      "outputs": [],
      "source": [
        "model_name = \"sequence_embedded_categorical\"\n",
        "\n",
        "# Creating the model in the TPUStrategy scope means we will train the model on the TPU\n",
        "if using_tpu:\n",
        "\twith tpu_strategy.scope():\n",
        "\t\tmodel = create_embedding_model_categorical(max_tokens, model_name)\n",
        "else:\n",
        "\tmodel = create_embedding_model_categorical(max_tokens, model_name)\n",
        "\n",
        "# Create callback to save model with a given name\n",
        "model_path = f\"models/{model_name}.keras\"\n",
        "callbacks = [\n",
        "\tkeras.callbacks.ModelCheckpoint(model_path, monitor='val_loss', save_best_only=True),\n",
        "\tkeras.callbacks.EarlyStopping(monitor='val_loss', min_delta=0.01, patience=5, verbose=1, restore_best_weights=False)\n",
        "]\n",
        "\n",
        "# Train Model\n",
        "model.fit(train_dataset_vectorized, validation_data=val_dataset_vectorized, epochs=20, callbacks=callbacks)\n",
        "\n",
        "# Evaluate Model after training\n",
        "model = keras.models.load_model(model_path)\n",
        "predictions = model.predict(test_dataset_vectorized)\n",
        "predictions = np.argmax(predictions, axis = -1)\n",
        "true_labels = np.concatenate([y for _, y in test_dataset_vectorized], axis=0)\n",
        "mae = mean_absolute_error(true_labels, predictions)\n",
        "mse = mean_squared_error(true_labels, predictions)\n",
        "\n",
        "\n",
        "# Output Model Metrics\n",
        "metrics_text = f\"Model {model_name} with MAE {mae:.3f} and MSE {mse:.3f}\\n\"\n",
        "print(metrics_text)\n",
        "with open(\"model_metrics.txt\", \"a\") as f:\n",
        "\tf.write(metrics_text)"
      ]
    },
    {
      "cell_type": "code",
      "execution_count": null,
      "metadata": {
        "id": "mJX5SqEe9NjT"
      },
      "outputs": [],
      "source": [
        "try: \n",
        "\tfrom google.colab import files\n",
        "\tfiles.download(\"models\")\n",
        "\tfiles.download(\"model_metrics.txt\")\n",
        "except:\n",
        "\tpass"
      ]
    }
  ],
  "metadata": {
    "accelerator": "TPU",
    "colab": {
      "collapsed_sections": [],
      "name": "train_vectorized.ipynb",
      "provenance": []
    },
    "interpreter": {
      "hash": "aee8b7b246df8f9039afb4144a1f6fd8d2ca17a180786b69acc140d282b71a49"
    },
    "kernelspec": {
      "display_name": "Python 3.9.10 64-bit",
      "language": "python",
      "name": "python3"
    },
    "language_info": {
      "codemirror_mode": {
        "name": "ipython",
        "version": 3
      },
      "file_extension": ".py",
      "mimetype": "text/x-python",
      "name": "python",
      "nbconvert_exporter": "python",
      "pygments_lexer": "ipython3",
      "version": "3.9.10"
    },
    "orig_nbformat": 4
  },
  "nbformat": 4,
  "nbformat_minor": 0
}
