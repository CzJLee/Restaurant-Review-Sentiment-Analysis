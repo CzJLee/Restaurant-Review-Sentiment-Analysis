{
  "cells": [
    {
      "cell_type": "markdown",
      "metadata": {
        "id": "gdAAAg_J5PxA"
      },
      "source": [
        "# Sequence Model - Sequence Vectorization Embedding Approach"
      ]
    },
    {
      "cell_type": "code",
      "execution_count": 1,
      "metadata": {
        "id": "LMGcv9V25PxE"
      },
      "outputs": [],
      "source": [
        "import numpy as np\n",
        "import pandas as pd\n",
        "import tensorflow as tf\n",
        "from tensorflow import keras\n",
        "from tensorflow.keras.layers import TextVectorization\n",
        "from sklearn.utils import shuffle\n",
        "from sklearn.metrics import mean_absolute_error, mean_squared_error"
      ]
    },
    {
      "cell_type": "code",
      "execution_count": 2,
      "metadata": {
        "colab": {
          "base_uri": "https://localhost:8080/"
        },
        "id": "86aQbViP9NjE",
        "outputId": "c6563b49-f234-423c-dff7-b6e73a52ddfd"
      },
      "outputs": [
        {
          "output_type": "stream",
          "name": "stdout",
          "text": [
            "Tensorflow version 2.7.0\n",
            "Drive already mounted at /content/drive; to attempt to forcibly remount, call drive.mount(\"/content/drive\", force_remount=True).\n",
            "Your runtime has 13.6 gigabytes of available RAM\n",
            "Not using a high-RAM runtime\n",
            "Note: Not connected to a TPU runtime.\n"
          ]
        }
      ],
      "source": [
        "# Check if Google Colab Instance for Setup\n",
        "print(\"Tensorflow version \" + tf.__version__)\n",
        "\n",
        "# Get correct path if on Google Colab\n",
        "try:\n",
        "\tfrom google.colab import drive\n",
        "\tdrive.mount(\"/content/drive\")\n",
        "\treviews_dataset_path = \"drive/MyDrive/Colab Notebooks/reviews.json\"\n",
        "\n",
        "\t# Get RAM Info\n",
        "\tfrom psutil import virtual_memory\n",
        "\tram_gb = virtual_memory().total / 1e9\n",
        "\tprint('Your runtime has {:.1f} gigabytes of available RAM'.format(ram_gb))\n",
        "\n",
        "\tif ram_gb < 20:\n",
        "\t\tprint('Not using a high-RAM runtime')\n",
        "\telse:\n",
        "\t\tprint('You are using a high-RAM runtime!')\n",
        "\n",
        "\ttry:\n",
        "\t\ttpu = tf.distribute.cluster_resolver.TPUClusterResolver() # TPU detection\n",
        "\t\tprint('Running on TPU ', tpu.cluster_spec().as_dict()['worker'])\n",
        "\n",
        "\t\ttf.config.experimental_connect_to_cluster(tpu)\n",
        "\t\ttf.tpu.experimental.initialize_tpu_system(tpu)\n",
        "\t\ttpu_strategy = tf.distribute.TPUStrategy(tpu)\n",
        "\n",
        "\t\tusing_tpu = True\n",
        "\texcept ValueError:\n",
        "\t\tprint(\"Note: Not connected to a TPU runtime.\")\n",
        "\t\tusing_tpu = False\n",
        "except ModuleNotFoundError:\n",
        "\treviews_dataset_path = \"yelp_dataset/reviews.json\"\n",
        "\tusing_tpu = False\n",
        "\n",
        "AUTO = tf.data.AUTOTUNE"
      ]
    },
    {
      "cell_type": "code",
      "execution_count": 3,
      "metadata": {
        "id": "NsuxbHGn5PxH"
      },
      "outputs": [],
      "source": [
        "# Read dataset into memory\n",
        "review_df = pd.read_json(reviews_dataset_path, orient=\"records\", lines=True)"
      ]
    },
    {
      "cell_type": "code",
      "execution_count": 4,
      "metadata": {
        "id": "FuZakueW5PxH"
      },
      "outputs": [],
      "source": [
        "# Shuffle Review df\n",
        "review_df = shuffle(review_df, random_state=0)\n",
        "\n",
        "# Slice into Train, Val, Test at 60:20:20\n",
        "n = len(review_df)\n",
        "df_train = review_df.iloc[: int(n*0.6)]\n",
        "df_val = review_df.iloc[int(n*0.6) : int(n*0.8)]\n",
        "df_test = review_df.iloc[int(n*0.8) :]"
      ]
    },
    {
      "cell_type": "code",
      "execution_count": 5,
      "metadata": {
        "id": "2VDEKEMh5PxI"
      },
      "outputs": [],
      "source": [
        "# Convert Pandas DF to TF Dataset\n",
        "if using_tpu:\n",
        "\t# TPU's really like big batches I guess. \n",
        "\t# By increasing the batch size by a factor of 128, I am seeing about a 4x speedup. \n",
        "\tbatch_size = 16 * 128 * tpu_strategy.num_replicas_in_sync\n",
        "else:\n",
        "\tbatch_size = 4 * 128\n",
        "\n",
        "def convert_text_df_to_dataset(df, input_col=\"text\", target_col=\"stars\"):\n",
        "\ttext_input = tf.convert_to_tensor(df[input_col], dtype=tf.string)\n",
        "\ttarget = tf.convert_to_tensor(df[target_col], dtype=tf.int8)\n",
        "\tdataset = tf.data.Dataset.from_tensor_slices((text_input, target))\n",
        "\tdataset = dataset.batch(batch_size).prefetch(AUTO)\n",
        "\treturn dataset\n",
        "\n",
        "train_dataset = convert_text_df_to_dataset(df_train)\n",
        "val_dataset = convert_text_df_to_dataset(df_val)\n",
        "test_dataset = convert_text_df_to_dataset(df_test)"
      ]
    },
    {
      "cell_type": "markdown",
      "metadata": {
        "id": "MJMVRzNi9NjH"
      },
      "source": [
        "## Train Model"
      ]
    },
    {
      "cell_type": "code",
      "execution_count": 6,
      "metadata": {
        "id": "LRLqLaNb9NjI"
      },
      "outputs": [],
      "source": [
        "# Build Model\n",
        "def create_embedding_model(max_tokens, model_name):\n",
        "\tinputs = keras.Input(shape=(None,), dtype=\"int64\")\n",
        "\tembedded = keras.layers.Embedding(input_dim=max_tokens, output_dim=256, mask_zero=True)(inputs)\n",
        "\tx = keras.layers.Bidirectional(keras.layers.LSTM(64, return_sequences=True))(embedded)\n",
        "\tx = keras.layers.Dropout(0.25)(x)\n",
        "\tx = keras.layers.Bidirectional(keras.layers.LSTM(32))(x)\n",
        "\tx = keras.layers.Dropout(0.25)(x)\n",
        "\toutputs = keras.layers.Dense(1)(x)\n",
        "\n",
        "\tmodel = keras.Model(inputs, outputs, name=model_name)\n",
        "\n",
        "\tmodel.compile(optimizer=\"rmsprop\", loss=\"mean_absolute_error\", metrics=[\"mean_squared_error\"])\n",
        "\n",
        "\treturn model"
      ]
    },
    {
      "cell_type": "markdown",
      "metadata": {
        "id": "FpoDsw8L9NjJ"
      },
      "source": [
        "### Single Word Vectorization"
      ]
    },
    {
      "cell_type": "code",
      "execution_count": 7,
      "metadata": {
        "id": "1w6XcKnv9NjK"
      },
      "outputs": [],
      "source": [
        "# Create TextVectorization\n",
        "max_tokens = 30000\n",
        "max_length = 500\n",
        "text_vectorization = TextVectorization(max_tokens=max_tokens, output_mode=\"int\", output_sequence_length=max_length)\n",
        "\n",
        "# Train Vectorizer on train text\n",
        "text_vectorization.adapt(df_train[\"text\"])\n",
        "\n",
        "# Vectorize Datasets\n",
        "train_dataset_vectorized = train_dataset.map(lambda x, y: (text_vectorization(x), y), num_parallel_calls=AUTO)\n",
        "val_dataset_vectorized = val_dataset.map(lambda x, y: (text_vectorization(x), y), num_parallel_calls=AUTO)\n",
        "test_dataset_vectorized = test_dataset.map(lambda x, y: (text_vectorization(x), y), num_parallel_calls=AUTO)"
      ]
    },
    {
      "cell_type": "code",
      "execution_count": 8,
      "metadata": {
        "colab": {
          "base_uri": "https://localhost:8080/"
        },
        "id": "CurWMIQQ5PxK",
        "outputId": "9d5cbacd-4b67-43c8-8098-4c458417eadd"
      },
      "outputs": [
        {
          "output_type": "stream",
          "name": "stdout",
          "text": [
            "Model: \"sequence_embedded\"\n",
            "_________________________________________________________________\n",
            " Layer (type)                Output Shape              Param #   \n",
            "=================================================================\n",
            " input_1 (InputLayer)        [(None, None)]            0         \n",
            "                                                                 \n",
            " embedding (Embedding)       (None, None, 256)         7680000   \n",
            "                                                                 \n",
            " bidirectional (Bidirectiona  (None, None, 128)        164352    \n",
            " l)                                                              \n",
            "                                                                 \n",
            " dropout (Dropout)           (None, None, 128)         0         \n",
            "                                                                 \n",
            " bidirectional_1 (Bidirectio  (None, 64)               41216     \n",
            " nal)                                                            \n",
            "                                                                 \n",
            " dropout_1 (Dropout)         (None, 64)                0         \n",
            "                                                                 \n",
            " dense (Dense)               (None, 1)                 65        \n",
            "                                                                 \n",
            "=================================================================\n",
            "Total params: 7,885,633\n",
            "Trainable params: 7,885,633\n",
            "Non-trainable params: 0\n",
            "_________________________________________________________________\n",
            "Epoch 1/20\n",
            "1216/1216 [==============================] - 298s 233ms/step - loss: 0.5816 - mean_squared_error: 0.7366 - val_loss: 0.3944 - val_mean_squared_error: 0.4139\n",
            "Epoch 2/20\n",
            "1216/1216 [==============================] - 277s 228ms/step - loss: 0.4648 - mean_squared_error: 0.4824 - val_loss: 0.3444 - val_mean_squared_error: 0.3859\n",
            "Epoch 3/20\n",
            "1216/1216 [==============================] - 278s 229ms/step - loss: 0.4260 - mean_squared_error: 0.4207 - val_loss: 0.3348 - val_mean_squared_error: 0.3752\n",
            "Epoch 4/20\n",
            "1216/1216 [==============================] - 278s 229ms/step - loss: 0.4000 - mean_squared_error: 0.3849 - val_loss: 0.3489 - val_mean_squared_error: 0.3608\n",
            "Epoch 5/20\n",
            "1216/1216 [==============================] - 279s 229ms/step - loss: 0.3834 - mean_squared_error: 0.3594 - val_loss: 0.3128 - val_mean_squared_error: 0.3612\n",
            "Epoch 6/20\n",
            "1216/1216 [==============================] - 278s 229ms/step - loss: 0.3667 - mean_squared_error: 0.3371 - val_loss: 0.3259 - val_mean_squared_error: 0.3677\n",
            "Epoch 7/20\n",
            "1216/1216 [==============================] - 276s 227ms/step - loss: 0.3515 - mean_squared_error: 0.3181 - val_loss: 0.3107 - val_mean_squared_error: 0.3788\n",
            "Epoch 8/20\n",
            "1216/1216 [==============================] - 277s 227ms/step - loss: 0.3377 - mean_squared_error: 0.3022 - val_loss: 0.3201 - val_mean_squared_error: 0.3775\n",
            "Epoch 9/20\n",
            "1216/1216 [==============================] - 277s 227ms/step - loss: 0.3257 - mean_squared_error: 0.2912 - val_loss: 0.3308 - val_mean_squared_error: 0.4080\n",
            "Epoch 10/20\n",
            "1216/1216 [==============================] - 276s 227ms/step - loss: 0.3133 - mean_squared_error: 0.2785 - val_loss: 0.3115 - val_mean_squared_error: 0.3980\n",
            "Epoch 00010: early stopping\n",
            "406/406 [==============================] - 38s 84ms/step - loss: 0.3085 - mean_squared_error: 0.3758\n",
            "Model sequence_embedded with MAE 0.309 and MSE 0.376\n",
            "\n"
          ]
        }
      ],
      "source": [
        "model_name = \"sequence_embedded\"\n",
        "\n",
        "# Creating the model in the TPUStrategy scope means we will train the model on the TPU\n",
        "if using_tpu:\n",
        "\twith tpu_strategy.scope():\n",
        "\t\tmodel = create_embedding_model(max_tokens, model_name)\n",
        "else:\n",
        "\tmodel = create_embedding_model(max_tokens, model_name)\n",
        "\n",
        "# Create callback to save model with a given name\n",
        "model_path = f\"models/{model_name}.keras\"\n",
        "callbacks = [\n",
        "\tkeras.callbacks.ModelCheckpoint(model_path, monitor='val_loss', save_best_only=True),\n",
        "\tkeras.callbacks.EarlyStopping(monitor='val_loss', min_delta=0.01, patience=5, verbose=1, restore_best_weights=False)\n",
        "]\n",
        "\n",
        "model.summary()\n",
        "\n",
        "# Train Model\n",
        "model.fit(train_dataset_vectorized, validation_data=val_dataset_vectorized, epochs=20, callbacks=callbacks)\n",
        "\n",
        "# Evaluate Model after training\n",
        "model = keras.models.load_model(model_path)\n",
        "eval = model.evaluate(test_dataset_vectorized)\n",
        "\n",
        "# Output Model Metrics\n",
        "metrics_text = f\"Model {model_name} with MAE {eval[0]:.3f} and MSE {eval[1]:.3f}\\n\"\n",
        "print(metrics_text)\n",
        "with open(\"model_metrics.txt\", \"a\") as f:\n",
        "\tf.write(metrics_text)"
      ]
    },
    {
      "cell_type": "markdown",
      "metadata": {
        "id": "zHSkABXa9NjR"
      },
      "source": [
        "### Categorical Classification"
      ]
    },
    {
      "cell_type": "code",
      "execution_count": 9,
      "metadata": {
        "id": "l-ycaHD89NjS"
      },
      "outputs": [],
      "source": [
        "# Build Model\n",
        "def create_embedding_model_categorical(max_tokens, model_name):\n",
        "\tinputs = keras.Input(shape=(None,), dtype=\"int64\")\n",
        "\tembedded = keras.layers.Embedding(input_dim=max_tokens, output_dim=512, mask_zero=True)(inputs)\n",
        "\tx = keras.layers.Bidirectional(keras.layers.LSTM(64, return_sequences=True))(embedded)\n",
        "\tx = keras.layers.Dropout(0.25)(x)\n",
        "\tx = keras.layers.Bidirectional(keras.layers.LSTM(32))(x)\n",
        "\tx = keras.layers.Dropout(0.25)(x)\n",
        "\toutputs = keras.layers.Dense(6, activation=\"softmax\")(x)\n",
        "\n",
        "\tmodel = keras.Model(inputs, outputs, name=model_name)\n",
        "\n",
        "\tmodel.compile(optimizer=\"rmsprop\", loss=\"sparse_categorical_crossentropy\", metrics=[\"sparse_categorical_accuracy\"])\n",
        "\n",
        "\treturn model"
      ]
    },
    {
      "cell_type": "code",
      "execution_count": 10,
      "metadata": {
        "id": "FmMnCObF9NjS",
        "colab": {
          "base_uri": "https://localhost:8080/"
        },
        "outputId": "9b727c5c-7fe7-4049-a4de-cd0765ad1437"
      },
      "outputs": [
        {
          "output_type": "stream",
          "name": "stdout",
          "text": [
            "Epoch 1/20\n",
            "1216/1216 [==============================] - 348s 275ms/step - loss: 0.6881 - sparse_categorical_accuracy: 0.7222 - val_loss: 0.6072 - val_sparse_categorical_accuracy: 0.7530\n",
            "Epoch 2/20\n",
            "1216/1216 [==============================] - 331s 272ms/step - loss: 0.5849 - sparse_categorical_accuracy: 0.7620 - val_loss: 0.5821 - val_sparse_categorical_accuracy: 0.7639\n",
            "Epoch 3/20\n",
            "1216/1216 [==============================] - 331s 272ms/step - loss: 0.5421 - sparse_categorical_accuracy: 0.7814 - val_loss: 0.5815 - val_sparse_categorical_accuracy: 0.7644\n",
            "Epoch 4/20\n",
            "1216/1216 [==============================] - 331s 272ms/step - loss: 0.5079 - sparse_categorical_accuracy: 0.7970 - val_loss: 0.5915 - val_sparse_categorical_accuracy: 0.7638\n",
            "Epoch 5/20\n",
            "1216/1216 [==============================] - 332s 273ms/step - loss: 0.4748 - sparse_categorical_accuracy: 0.8128 - val_loss: 0.6132 - val_sparse_categorical_accuracy: 0.7566\n",
            "Epoch 6/20\n",
            "1216/1216 [==============================] - 331s 272ms/step - loss: 0.4418 - sparse_categorical_accuracy: 0.8278 - val_loss: 0.6566 - val_sparse_categorical_accuracy: 0.7528\n",
            "Epoch 7/20\n",
            "1216/1216 [==============================] - 332s 273ms/step - loss: 0.4095 - sparse_categorical_accuracy: 0.8424 - val_loss: 0.6889 - val_sparse_categorical_accuracy: 0.7483\n",
            "Epoch 00007: early stopping\n",
            "Model sequence_embedded_categorical with MAE 0.280 and MSE 0.413\n",
            "\n"
          ]
        }
      ],
      "source": [
        "model_name = \"sequence_embedded_categorical\"\n",
        "\n",
        "# Creating the model in the TPUStrategy scope means we will train the model on the TPU\n",
        "if using_tpu:\n",
        "\twith tpu_strategy.scope():\n",
        "\t\tmodel = create_embedding_model_categorical(max_tokens, model_name)\n",
        "else:\n",
        "\tmodel = create_embedding_model_categorical(max_tokens, model_name)\n",
        "\n",
        "# Create callback to save model with a given name\n",
        "model_path = f\"models/{model_name}.keras\"\n",
        "callbacks = [\n",
        "\tkeras.callbacks.ModelCheckpoint(model_path, monitor='val_loss', save_best_only=True),\n",
        "\tkeras.callbacks.EarlyStopping(monitor='val_loss', min_delta=0.01, patience=5, verbose=1, restore_best_weights=False)\n",
        "]\n",
        "\n",
        "# Train Model\n",
        "model.fit(train_dataset_vectorized, validation_data=val_dataset_vectorized, epochs=20, callbacks=callbacks)\n",
        "\n",
        "# Evaluate Model after training\n",
        "model = keras.models.load_model(model_path)\n",
        "predictions = model.predict(test_dataset_vectorized)\n",
        "predictions = np.argmax(predictions, axis = -1)\n",
        "true_labels = np.concatenate([y for _, y in test_dataset_vectorized], axis=0)\n",
        "mae = mean_absolute_error(true_labels, predictions)\n",
        "mse = mean_squared_error(true_labels, predictions)\n",
        "\n",
        "\n",
        "# Output Model Metrics\n",
        "metrics_text = f\"Model {model_name} with MAE {mae:.3f} and MSE {mse:.3f}\\n\"\n",
        "print(metrics_text)\n",
        "with open(\"model_metrics.txt\", \"a\") as f:\n",
        "\tf.write(metrics_text)"
      ]
    },
    {
      "cell_type": "code",
      "execution_count": 11,
      "metadata": {
        "id": "mJX5SqEe9NjT",
        "colab": {
          "base_uri": "https://localhost:8080/",
          "height": 69
        },
        "outputId": "98b21d9f-620a-4a02-9b54-de2860d6c49f"
      },
      "outputs": [
        {
          "output_type": "stream",
          "name": "stdout",
          "text": [
            "  adding: models/ (stored 0%)\n",
            "  adding: models/sequence_embedded.keras (deflated 7%)\n",
            "  adding: models/sequence_embedded_categorical.keras (deflated 7%)\n"
          ]
        },
        {
          "output_type": "display_data",
          "data": {
            "application/javascript": [
              "\n",
              "    async function download(id, filename, size) {\n",
              "      if (!google.colab.kernel.accessAllowed) {\n",
              "        return;\n",
              "      }\n",
              "      const div = document.createElement('div');\n",
              "      const label = document.createElement('label');\n",
              "      label.textContent = `Downloading \"${filename}\": `;\n",
              "      div.appendChild(label);\n",
              "      const progress = document.createElement('progress');\n",
              "      progress.max = size;\n",
              "      div.appendChild(progress);\n",
              "      document.body.appendChild(div);\n",
              "\n",
              "      const buffers = [];\n",
              "      let downloaded = 0;\n",
              "\n",
              "      const channel = await google.colab.kernel.comms.open(id);\n",
              "      // Send a message to notify the kernel that we're ready.\n",
              "      channel.send({})\n",
              "\n",
              "      for await (const message of channel.messages) {\n",
              "        // Send a message to notify the kernel that we're ready.\n",
              "        channel.send({})\n",
              "        if (message.buffers) {\n",
              "          for (const buffer of message.buffers) {\n",
              "            buffers.push(buffer);\n",
              "            downloaded += buffer.byteLength;\n",
              "            progress.value = downloaded;\n",
              "          }\n",
              "        }\n",
              "      }\n",
              "      const blob = new Blob(buffers, {type: 'application/binary'});\n",
              "      const a = document.createElement('a');\n",
              "      a.href = window.URL.createObjectURL(blob);\n",
              "      a.download = filename;\n",
              "      div.appendChild(a);\n",
              "      a.click();\n",
              "      div.remove();\n",
              "    }\n",
              "  "
            ],
            "text/plain": [
              "<IPython.core.display.Javascript object>"
            ]
          },
          "metadata": {}
        },
        {
          "output_type": "display_data",
          "data": {
            "application/javascript": [
              "download(\"download_a08f3d5d-a490-42f6-a410-02ea4d30f051\", \"models.zip\", 175999276)"
            ],
            "text/plain": [
              "<IPython.core.display.Javascript object>"
            ]
          },
          "metadata": {}
        },
        {
          "output_type": "display_data",
          "data": {
            "application/javascript": [
              "\n",
              "    async function download(id, filename, size) {\n",
              "      if (!google.colab.kernel.accessAllowed) {\n",
              "        return;\n",
              "      }\n",
              "      const div = document.createElement('div');\n",
              "      const label = document.createElement('label');\n",
              "      label.textContent = `Downloading \"${filename}\": `;\n",
              "      div.appendChild(label);\n",
              "      const progress = document.createElement('progress');\n",
              "      progress.max = size;\n",
              "      div.appendChild(progress);\n",
              "      document.body.appendChild(div);\n",
              "\n",
              "      const buffers = [];\n",
              "      let downloaded = 0;\n",
              "\n",
              "      const channel = await google.colab.kernel.comms.open(id);\n",
              "      // Send a message to notify the kernel that we're ready.\n",
              "      channel.send({})\n",
              "\n",
              "      for await (const message of channel.messages) {\n",
              "        // Send a message to notify the kernel that we're ready.\n",
              "        channel.send({})\n",
              "        if (message.buffers) {\n",
              "          for (const buffer of message.buffers) {\n",
              "            buffers.push(buffer);\n",
              "            downloaded += buffer.byteLength;\n",
              "            progress.value = downloaded;\n",
              "          }\n",
              "        }\n",
              "      }\n",
              "      const blob = new Blob(buffers, {type: 'application/binary'});\n",
              "      const a = document.createElement('a');\n",
              "      a.href = window.URL.createObjectURL(blob);\n",
              "      a.download = filename;\n",
              "      div.appendChild(a);\n",
              "      a.click();\n",
              "      div.remove();\n",
              "    }\n",
              "  "
            ],
            "text/plain": [
              "<IPython.core.display.Javascript object>"
            ]
          },
          "metadata": {}
        },
        {
          "output_type": "display_data",
          "data": {
            "application/javascript": [
              "download(\"download_55449912-582e-4332-92ac-390a43ff3d55\", \"model_metrics.txt\", 118)"
            ],
            "text/plain": [
              "<IPython.core.display.Javascript object>"
            ]
          },
          "metadata": {}
        }
      ],
      "source": [
        "# Zip Models\n",
        "!zip -r \"models.zip\" \"models\"\n",
        "\n",
        "try: \n",
        "\tfrom google.colab import files\n",
        "\tfiles.download(\"models.zip\")\n",
        "\tfiles.download(\"model_metrics.txt\")\n",
        "except:\n",
        "\tpass"
      ]
    }
  ],
  "metadata": {
    "accelerator": "GPU",
    "colab": {
      "collapsed_sections": [],
      "name": "train_sequence.ipynb",
      "provenance": []
    },
    "interpreter": {
      "hash": "aee8b7b246df8f9039afb4144a1f6fd8d2ca17a180786b69acc140d282b71a49"
    },
    "kernelspec": {
      "display_name": "Python 3.9.10 64-bit",
      "language": "python",
      "name": "python3"
    },
    "language_info": {
      "codemirror_mode": {
        "name": "ipython",
        "version": 3
      },
      "file_extension": ".py",
      "mimetype": "text/x-python",
      "name": "python",
      "nbconvert_exporter": "python",
      "pygments_lexer": "ipython3",
      "version": "3.9.10"
    },
    "orig_nbformat": 4
  },
  "nbformat": 4,
  "nbformat_minor": 0
}