{
  "cells": [
    {
      "cell_type": "markdown",
      "metadata": {
        "id": "gdAAAg_J5PxA"
      },
      "source": [
        "# Sentiment Analysis - Predicting Rating Based On Review Text"
      ]
    },
    {
      "cell_type": "code",
      "execution_count": 1,
      "metadata": {
        "id": "LMGcv9V25PxE"
      },
      "outputs": [],
      "source": [
        "import numpy as np\n",
        "import pandas as pd\n",
        "import tensorflow as tf\n",
        "from tensorflow import keras\n",
        "from tensorflow.keras.layers import TextVectorization\n",
        "from sklearn.utils import shuffle"
      ]
    },
    {
      "cell_type": "code",
      "source": [
        "# Set up TPU instance\n",
        "%tensorflow_version 2.x\n",
        "print(\"Tensorflow version \" + tf.__version__)\n",
        "\n",
        "try:\n",
        "  tpu = tf.distribute.cluster_resolver.TPUClusterResolver()  # TPU detection\n",
        "  print('Running on TPU ', tpu.cluster_spec().as_dict()['worker'])\n",
        "except ValueError:\n",
        "  raise BaseException('ERROR: Not connected to a TPU runtime; please see the previous cell in this notebook for instructions!')\n",
        "\n",
        "tf.config.experimental_connect_to_cluster(tpu)\n",
        "tf.tpu.experimental.initialize_tpu_system(tpu)\n",
        "tpu_strategy = tf.distribute.TPUStrategy(tpu)\n",
        "\n",
        "AUTO = tf.data.experimental.AUTOTUNE"
      ],
      "metadata": {
        "colab": {
          "base_uri": "https://localhost:8080/"
        },
        "id": "LHIlLbBFCeKw",
        "outputId": "7d4ed7c3-2788-4883-92b3-502f4fb50608"
      },
      "execution_count": 2,
      "outputs": [
        {
          "output_type": "stream",
          "name": "stdout",
          "text": [
            "Tensorflow version 2.7.0\n",
            "Running on TPU  ['10.17.219.50:8470']\n",
            "INFO:tensorflow:Deallocate tpu buffers before initializing tpu system.\n"
          ]
        },
        {
          "output_type": "stream",
          "name": "stderr",
          "text": [
            "INFO:tensorflow:Deallocate tpu buffers before initializing tpu system.\n"
          ]
        },
        {
          "output_type": "stream",
          "name": "stdout",
          "text": [
            "INFO:tensorflow:Initializing the TPU system: grpc://10.17.219.50:8470\n"
          ]
        },
        {
          "output_type": "stream",
          "name": "stderr",
          "text": [
            "INFO:tensorflow:Initializing the TPU system: grpc://10.17.219.50:8470\n"
          ]
        },
        {
          "output_type": "stream",
          "name": "stdout",
          "text": [
            "INFO:tensorflow:Finished initializing TPU system.\n"
          ]
        },
        {
          "output_type": "stream",
          "name": "stderr",
          "text": [
            "INFO:tensorflow:Finished initializing TPU system.\n"
          ]
        },
        {
          "output_type": "stream",
          "name": "stdout",
          "text": [
            "INFO:tensorflow:Found TPU system:\n"
          ]
        },
        {
          "output_type": "stream",
          "name": "stderr",
          "text": [
            "INFO:tensorflow:Found TPU system:\n"
          ]
        },
        {
          "output_type": "stream",
          "name": "stdout",
          "text": [
            "INFO:tensorflow:*** Num TPU Cores: 8\n"
          ]
        },
        {
          "output_type": "stream",
          "name": "stderr",
          "text": [
            "INFO:tensorflow:*** Num TPU Cores: 8\n"
          ]
        },
        {
          "output_type": "stream",
          "name": "stdout",
          "text": [
            "INFO:tensorflow:*** Num TPU Workers: 1\n"
          ]
        },
        {
          "output_type": "stream",
          "name": "stderr",
          "text": [
            "INFO:tensorflow:*** Num TPU Workers: 1\n"
          ]
        },
        {
          "output_type": "stream",
          "name": "stdout",
          "text": [
            "INFO:tensorflow:*** Num TPU Cores Per Worker: 8\n"
          ]
        },
        {
          "output_type": "stream",
          "name": "stderr",
          "text": [
            "INFO:tensorflow:*** Num TPU Cores Per Worker: 8\n"
          ]
        },
        {
          "output_type": "stream",
          "name": "stdout",
          "text": [
            "INFO:tensorflow:*** Available Device: _DeviceAttributes(/job:localhost/replica:0/task:0/device:CPU:0, CPU, 0, 0)\n"
          ]
        },
        {
          "output_type": "stream",
          "name": "stderr",
          "text": [
            "INFO:tensorflow:*** Available Device: _DeviceAttributes(/job:localhost/replica:0/task:0/device:CPU:0, CPU, 0, 0)\n"
          ]
        },
        {
          "output_type": "stream",
          "name": "stdout",
          "text": [
            "INFO:tensorflow:*** Available Device: _DeviceAttributes(/job:worker/replica:0/task:0/device:CPU:0, CPU, 0, 0)\n"
          ]
        },
        {
          "output_type": "stream",
          "name": "stderr",
          "text": [
            "INFO:tensorflow:*** Available Device: _DeviceAttributes(/job:worker/replica:0/task:0/device:CPU:0, CPU, 0, 0)\n"
          ]
        },
        {
          "output_type": "stream",
          "name": "stdout",
          "text": [
            "INFO:tensorflow:*** Available Device: _DeviceAttributes(/job:worker/replica:0/task:0/device:TPU:0, TPU, 0, 0)\n"
          ]
        },
        {
          "output_type": "stream",
          "name": "stderr",
          "text": [
            "INFO:tensorflow:*** Available Device: _DeviceAttributes(/job:worker/replica:0/task:0/device:TPU:0, TPU, 0, 0)\n"
          ]
        },
        {
          "output_type": "stream",
          "name": "stdout",
          "text": [
            "INFO:tensorflow:*** Available Device: _DeviceAttributes(/job:worker/replica:0/task:0/device:TPU:1, TPU, 0, 0)\n"
          ]
        },
        {
          "output_type": "stream",
          "name": "stderr",
          "text": [
            "INFO:tensorflow:*** Available Device: _DeviceAttributes(/job:worker/replica:0/task:0/device:TPU:1, TPU, 0, 0)\n"
          ]
        },
        {
          "output_type": "stream",
          "name": "stdout",
          "text": [
            "INFO:tensorflow:*** Available Device: _DeviceAttributes(/job:worker/replica:0/task:0/device:TPU:2, TPU, 0, 0)\n"
          ]
        },
        {
          "output_type": "stream",
          "name": "stderr",
          "text": [
            "INFO:tensorflow:*** Available Device: _DeviceAttributes(/job:worker/replica:0/task:0/device:TPU:2, TPU, 0, 0)\n"
          ]
        },
        {
          "output_type": "stream",
          "name": "stdout",
          "text": [
            "INFO:tensorflow:*** Available Device: _DeviceAttributes(/job:worker/replica:0/task:0/device:TPU:3, TPU, 0, 0)\n"
          ]
        },
        {
          "output_type": "stream",
          "name": "stderr",
          "text": [
            "INFO:tensorflow:*** Available Device: _DeviceAttributes(/job:worker/replica:0/task:0/device:TPU:3, TPU, 0, 0)\n"
          ]
        },
        {
          "output_type": "stream",
          "name": "stdout",
          "text": [
            "INFO:tensorflow:*** Available Device: _DeviceAttributes(/job:worker/replica:0/task:0/device:TPU:4, TPU, 0, 0)\n"
          ]
        },
        {
          "output_type": "stream",
          "name": "stderr",
          "text": [
            "INFO:tensorflow:*** Available Device: _DeviceAttributes(/job:worker/replica:0/task:0/device:TPU:4, TPU, 0, 0)\n"
          ]
        },
        {
          "output_type": "stream",
          "name": "stdout",
          "text": [
            "INFO:tensorflow:*** Available Device: _DeviceAttributes(/job:worker/replica:0/task:0/device:TPU:5, TPU, 0, 0)\n"
          ]
        },
        {
          "output_type": "stream",
          "name": "stderr",
          "text": [
            "INFO:tensorflow:*** Available Device: _DeviceAttributes(/job:worker/replica:0/task:0/device:TPU:5, TPU, 0, 0)\n"
          ]
        },
        {
          "output_type": "stream",
          "name": "stdout",
          "text": [
            "INFO:tensorflow:*** Available Device: _DeviceAttributes(/job:worker/replica:0/task:0/device:TPU:6, TPU, 0, 0)\n"
          ]
        },
        {
          "output_type": "stream",
          "name": "stderr",
          "text": [
            "INFO:tensorflow:*** Available Device: _DeviceAttributes(/job:worker/replica:0/task:0/device:TPU:6, TPU, 0, 0)\n"
          ]
        },
        {
          "output_type": "stream",
          "name": "stdout",
          "text": [
            "INFO:tensorflow:*** Available Device: _DeviceAttributes(/job:worker/replica:0/task:0/device:TPU:7, TPU, 0, 0)\n"
          ]
        },
        {
          "output_type": "stream",
          "name": "stderr",
          "text": [
            "INFO:tensorflow:*** Available Device: _DeviceAttributes(/job:worker/replica:0/task:0/device:TPU:7, TPU, 0, 0)\n"
          ]
        },
        {
          "output_type": "stream",
          "name": "stdout",
          "text": [
            "INFO:tensorflow:*** Available Device: _DeviceAttributes(/job:worker/replica:0/task:0/device:TPU_SYSTEM:0, TPU_SYSTEM, 0, 0)\n"
          ]
        },
        {
          "output_type": "stream",
          "name": "stderr",
          "text": [
            "INFO:tensorflow:*** Available Device: _DeviceAttributes(/job:worker/replica:0/task:0/device:TPU_SYSTEM:0, TPU_SYSTEM, 0, 0)\n"
          ]
        },
        {
          "output_type": "stream",
          "name": "stdout",
          "text": [
            "INFO:tensorflow:*** Available Device: _DeviceAttributes(/job:worker/replica:0/task:0/device:XLA_CPU:0, XLA_CPU, 0, 0)\n"
          ]
        },
        {
          "output_type": "stream",
          "name": "stderr",
          "text": [
            "INFO:tensorflow:*** Available Device: _DeviceAttributes(/job:worker/replica:0/task:0/device:XLA_CPU:0, XLA_CPU, 0, 0)\n"
          ]
        }
      ]
    },
    {
      "cell_type": "code",
      "execution_count": 3,
      "metadata": {
        "colab": {
          "base_uri": "https://localhost:8080/"
        },
        "id": "_mEP43xk5PxG",
        "outputId": "a709ac59-8367-4bff-852c-3f2991527736"
      },
      "outputs": [
        {
          "output_type": "stream",
          "name": "stdout",
          "text": [
            "Mounted at /content/drive\n",
            "Your runtime has 37.8 gigabytes of available RAM\n",
            "You are using a high-RAM runtime!\n"
          ]
        }
      ],
      "source": [
        "# Get dataset path on Google Colab\n",
        "from google.colab import drive\n",
        "drive.mount(\"/content/drive\")\n",
        "reviews_dataset_path = \"drive/MyDrive/Colab Notebooks/reviews.json\"\n",
        "\n",
        "# Get RAM Info\n",
        "from psutil import virtual_memory\n",
        "ram_gb = virtual_memory().total / 1e9\n",
        "print('Your runtime has {:.1f} gigabytes of available RAM'.format(ram_gb))\n",
        "\n",
        "if ram_gb < 20:\n",
        "\tprint('Not using a high-RAM runtime')\n",
        "else:\n",
        "\tprint('You are using a high-RAM runtime!')"
      ]
    },
    {
      "cell_type": "code",
      "execution_count": 4,
      "metadata": {
        "id": "NsuxbHGn5PxH"
      },
      "outputs": [],
      "source": [
        "# Read dataset into memory\n",
        "review_df = pd.read_json(reviews_dataset_path, orient=\"records\", lines=True)"
      ]
    },
    {
      "cell_type": "code",
      "execution_count": 5,
      "metadata": {
        "id": "FuZakueW5PxH"
      },
      "outputs": [],
      "source": [
        "# Shuffle Review df\n",
        "review_df = shuffle(review_df, random_state=0)\n",
        "\n",
        "# Slice into Train, Val, Test at 60:20:20\n",
        "n = len(review_df)\n",
        "df_train = review_df.iloc[: int(n*0.6)]\n",
        "df_val = review_df.iloc[int(n*0.6) : int(n*0.8)]\n",
        "df_test = review_df.iloc[int(n*0.8) :]"
      ]
    },
    {
      "cell_type": "code",
      "execution_count": 6,
      "metadata": {
        "id": "2VDEKEMh5PxI"
      },
      "outputs": [],
      "source": [
        "# Convert Pandas DF to TF Dataset\n",
        "batch_size = 16 * tpu_strategy.num_replicas_in_sync\n",
        "def convert_text_df_to_dataset(df, input_col=\"text\", target_col=\"stars\"):\n",
        "\ttext_input = tf.convert_to_tensor(df[input_col], dtype=tf.string)\n",
        "\ttarget = tf.convert_to_tensor(df[target_col], dtype=tf.int8)\n",
        "\tdataset = tf.data.Dataset.from_tensor_slices((text_input, target))\n",
        "\tdataset = dataset.batch(batch_size).prefetch(AUTO)\n",
        "\treturn dataset\n",
        "\n",
        "train_dataset = convert_text_df_to_dataset(df_train)\n",
        "val_dataset = convert_text_df_to_dataset(df_val)\n",
        "test_dataset = convert_text_df_to_dataset(df_test)"
      ]
    },
    {
      "cell_type": "code",
      "execution_count": 7,
      "metadata": {
        "collapsed": true,
        "id": "VhL0TAbX5PxJ"
      },
      "outputs": [],
      "source": [
        "# Create TextVectorization\n",
        "max_tokens = 30000\n",
        "text_vectorization = TextVectorization(max_tokens=max_tokens, output_mode=\"multi_hot\")\n",
        "\n",
        "# Train Vectorizer on train text\n",
        "text_vectorization.adapt(df_train[\"text\"])"
      ]
    },
    {
      "cell_type": "code",
      "execution_count": 8,
      "metadata": {
        "id": "f7Z5jPoP5PxK"
      },
      "outputs": [],
      "source": [
        "# Vectorize Datasets\n",
        "train_dataset = train_dataset.map(lambda x, y: (text_vectorization(x), y), num_parallel_calls=AUTO)\n",
        "val_dataset = val_dataset.map(lambda x, y: (text_vectorization(x), y), num_parallel_calls=AUTO)\n",
        "test_dataset = test_dataset.map(lambda x, y: (text_vectorization(x), y), num_parallel_calls=AUTO)"
      ]
    },
    {
      "cell_type": "code",
      "execution_count": 9,
      "metadata": {
        "colab": {
          "base_uri": "https://localhost:8080/"
        },
        "id": "CurWMIQQ5PxK",
        "outputId": "0c4f3e62-3f14-44f2-8404-cf42549cb750"
      },
      "outputs": [
        {
          "output_type": "stream",
          "name": "stdout",
          "text": [
            "Model: \"model\"\n",
            "_________________________________________________________________\n",
            " Layer (type)                Output Shape              Param #   \n",
            "=================================================================\n",
            " input_1 (InputLayer)        [(None, 30000)]           0         \n",
            "                                                                 \n",
            " dense (Dense)               (None, 32)                960032    \n",
            "                                                                 \n",
            " dropout (Dropout)           (None, 32)                0         \n",
            "                                                                 \n",
            " dense_1 (Dense)             (None, 16)                528       \n",
            "                                                                 \n",
            " dropout_1 (Dropout)         (None, 16)                0         \n",
            "                                                                 \n",
            " dense_2 (Dense)             (None, 1)                 17        \n",
            "                                                                 \n",
            " re_lu (ReLU)                (None, 1)                 0         \n",
            "                                                                 \n",
            "=================================================================\n",
            "Total params: 960,577\n",
            "Trainable params: 960,577\n",
            "Non-trainable params: 0\n",
            "_________________________________________________________________\n"
          ]
        }
      ],
      "source": [
        "# Build Model\n",
        "def create_model():\n",
        "\tinputs = keras.Input(shape=(max_tokens,))\n",
        "\tx = keras.layers.Dense(32, activation=\"relu\")(inputs)\n",
        "\tx = keras.layers.Dropout(0.25)(x)\n",
        "\tx = keras.layers.Dense(16, activation=\"relu\")(x)\n",
        "\tx = keras.layers.Dropout(0.25)(x)\n",
        "\tx = keras.layers.Dense(1)(x)\n",
        "\toutputs = keras.layers.ReLU(max_value=5, threshold=0)(x)\n",
        "\n",
        "\tmodel = keras.Model(inputs, outputs)\n",
        "\n",
        "\tmodel.compile(optimizer=\"rmsprop\", loss=\"mean_absolute_error\", metrics=[\"mean_squared_error\"])\n",
        "\n",
        "\treturn model\n",
        "\n",
        "# Creating the model in the TPUStrategy scope means we will train the model on the TPU\n",
        "with tpu_strategy.scope(): \n",
        "  model = create_model()\n",
        "\n",
        "model_path = \"models/text_vectorized.keras\"\n",
        "callbacks = [\n",
        "\tkeras.callbacks.ModelCheckpoint(model_path, monitor='val_loss', save_best_only=True),\n",
        "\tkeras.callbacks.EarlyStopping(monitor='val_loss', min_delta=0.01, patience=5, verbose=1, restore_best_weights=True)\n",
        "]\n",
        "\n",
        "model.summary()"
      ]
    },
    {
      "cell_type": "code",
      "execution_count": 10,
      "metadata": {
        "colab": {
          "base_uri": "https://localhost:8080/"
        },
        "id": "GoEKTG4g5PxM",
        "outputId": "1c8b956b-f3c6-4c38-84db-50f400600c21"
      },
      "outputs": [
        {
          "output_type": "stream",
          "name": "stdout",
          "text": [
            "Epoch 1/50\n",
            "WARNING:tensorflow:From /usr/local/lib/python3.7/dist-packages/keras/engine/training.py:2970: StrategyBase.unwrap (from tensorflow.python.distribute.distribute_lib) is deprecated and will be removed in a future version.\n",
            "Instructions for updating:\n",
            "use `experimental_local_results` instead.\n"
          ]
        },
        {
          "output_type": "stream",
          "name": "stderr",
          "text": [
            "WARNING:tensorflow:From /usr/local/lib/python3.7/dist-packages/keras/engine/training.py:2970: StrategyBase.unwrap (from tensorflow.python.distribute.distribute_lib) is deprecated and will be removed in a future version.\n",
            "Instructions for updating:\n",
            "use `experimental_local_results` instead.\n"
          ]
        },
        {
          "output_type": "stream",
          "name": "stdout",
          "text": [
            "4864/4864 [==============================] - 94s 19ms/step - loss: 0.4997 - mean_squared_error: 0.8612 - val_loss: 0.4082 - val_mean_squared_error: 0.5962\n",
            "Epoch 2/50\n",
            "4864/4864 [==============================] - 88s 18ms/step - loss: 0.4132 - mean_squared_error: 0.6169 - val_loss: 0.3902 - val_mean_squared_error: 0.5667\n",
            "Epoch 3/50\n",
            "4864/4864 [==============================] - 89s 18ms/step - loss: 0.3966 - mean_squared_error: 0.5793 - val_loss: 0.3849 - val_mean_squared_error: 0.5558\n",
            "Epoch 4/50\n",
            "4864/4864 [==============================] - 90s 18ms/step - loss: 0.3877 - mean_squared_error: 0.5580 - val_loss: 0.3845 - val_mean_squared_error: 0.5596\n",
            "Epoch 5/50\n",
            "4864/4864 [==============================] - 90s 18ms/step - loss: 0.3815 - mean_squared_error: 0.5438 - val_loss: 0.3816 - val_mean_squared_error: 0.5553\n",
            "Epoch 6/50\n",
            "4864/4864 [==============================] - 90s 18ms/step - loss: 0.3726 - mean_squared_error: 0.5239 - val_loss: 0.3771 - val_mean_squared_error: 0.5421\n",
            "Epoch 7/50\n",
            "4864/4864 [==============================] - 89s 18ms/step - loss: 0.3666 - mean_squared_error: 0.5119 - val_loss: 0.3757 - val_mean_squared_error: 0.5409\n",
            "Epoch 8/50\n",
            "4864/4864 [==============================] - 90s 19ms/step - loss: 0.3626 - mean_squared_error: 0.5023 - val_loss: 0.3730 - val_mean_squared_error: 0.5319\n",
            "Epoch 9/50\n",
            "4864/4864 [==============================] - 89s 18ms/step - loss: 0.3580 - mean_squared_error: 0.4919 - val_loss: 0.3746 - val_mean_squared_error: 0.5423\n",
            "Epoch 10/50\n",
            "4864/4864 [==============================] - 89s 18ms/step - loss: 0.3545 - mean_squared_error: 0.4848 - val_loss: 0.3717 - val_mean_squared_error: 0.5356\n",
            "Epoch 11/50\n",
            "4864/4864 [==============================] - ETA: 0s - loss: 0.3502 - mean_squared_error: 0.4744Restoring model weights from the end of the best epoch: 6.\n",
            "4864/4864 [==============================] - 90s 18ms/step - loss: 0.3502 - mean_squared_error: 0.4744 - val_loss: 0.3705 - val_mean_squared_error: 0.5287\n",
            "Epoch 00011: early stopping\n"
          ]
        },
        {
          "output_type": "execute_result",
          "data": {
            "text/plain": [
              "<keras.callbacks.History at 0x7fd42bf26950>"
            ]
          },
          "metadata": {},
          "execution_count": 10
        }
      ],
      "source": [
        "model.fit(train_dataset, validation_data=val_dataset, epochs=50, callbacks=callbacks)"
      ]
    },
    {
      "cell_type": "code",
      "execution_count": 11,
      "metadata": {
        "id": "AF8naJno5PxN",
        "colab": {
          "base_uri": "https://localhost:8080/"
        },
        "outputId": "ae50f1c5-ef56-453b-f471-30b690b8ab95"
      },
      "outputs": [
        {
          "output_type": "stream",
          "name": "stdout",
          "text": [
            "1622/1622 [==============================] - 11s 7ms/step - loss: 0.3683 - mean_squared_error: 0.5285\n"
          ]
        },
        {
          "output_type": "execute_result",
          "data": {
            "text/plain": [
              "[0.36825692653656006, 0.5284878015518188]"
            ]
          },
          "metadata": {},
          "execution_count": 11
        }
      ],
      "source": [
        "model = keras.models.load_model(model_path)\n",
        "model.evaluate(test_dataset)"
      ]
    },
    {
      "cell_type": "code",
      "execution_count": 11,
      "metadata": {
        "id": "7cfTzQHe5PxN"
      },
      "outputs": [],
      "source": [
        ""
      ]
    }
  ],
  "metadata": {
    "interpreter": {
      "hash": "aee8b7b246df8f9039afb4144a1f6fd8d2ca17a180786b69acc140d282b71a49"
    },
    "kernelspec": {
      "display_name": "Python 3.9.10 64-bit",
      "language": "python",
      "name": "python3"
    },
    "language_info": {
      "codemirror_mode": {
        "name": "ipython",
        "version": 3
      },
      "file_extension": ".py",
      "mimetype": "text/x-python",
      "name": "python",
      "nbconvert_exporter": "python",
      "pygments_lexer": "ipython3",
      "version": "3.9.10"
    },
    "orig_nbformat": 4,
    "colab": {
      "name": "sentiment_tpu.ipynb",
      "provenance": [],
      "collapsed_sections": [],
      "machine_shape": "hm"
    },
    "accelerator": "TPU"
  },
  "nbformat": 4,
  "nbformat_minor": 0
}