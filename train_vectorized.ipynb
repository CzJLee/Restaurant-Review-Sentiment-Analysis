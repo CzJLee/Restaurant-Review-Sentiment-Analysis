{
  "cells": [
    {
      "cell_type": "markdown",
      "metadata": {
        "id": "gdAAAg_J5PxA"
      },
      "source": [
        "# Bag of Words - Text Vectorization Approach"
      ]
    },
    {
      "cell_type": "code",
      "execution_count": 1,
      "metadata": {
        "id": "LMGcv9V25PxE"
      },
      "outputs": [],
      "source": [
        "import numpy as np\n",
        "import pandas as pd\n",
        "import tensorflow as tf\n",
        "from tensorflow import keras\n",
        "from tensorflow.keras.layers import TextVectorization\n",
        "from sklearn.utils import shuffle\n",
        "from sklearn.metrics import mean_absolute_error, mean_squared_error"
      ]
    },
    {
      "cell_type": "code",
      "execution_count": 2,
      "metadata": {
        "colab": {
          "base_uri": "https://localhost:8080/"
        },
        "id": "86aQbViP9NjE",
        "outputId": "499a0b41-e315-4242-cc34-c6ccaa4ab31e"
      },
      "outputs": [
        {
          "output_type": "stream",
          "name": "stdout",
          "text": [
            "Tensorflow version 2.7.0\n",
            "Mounted at /content/drive\n",
            "Your runtime has 13.6 gigabytes of available RAM\n",
            "Not using a high-RAM runtime\n",
            "Running on TPU  ['10.78.42.2:8470']\n",
            "INFO:tensorflow:Deallocate tpu buffers before initializing tpu system.\n"
          ]
        },
        {
          "output_type": "stream",
          "name": "stderr",
          "text": [
            "INFO:tensorflow:Deallocate tpu buffers before initializing tpu system.\n"
          ]
        },
        {
          "output_type": "stream",
          "name": "stdout",
          "text": [
            "INFO:tensorflow:Initializing the TPU system: grpc://10.78.42.2:8470\n"
          ]
        },
        {
          "output_type": "stream",
          "name": "stderr",
          "text": [
            "INFO:tensorflow:Initializing the TPU system: grpc://10.78.42.2:8470\n"
          ]
        },
        {
          "output_type": "stream",
          "name": "stdout",
          "text": [
            "INFO:tensorflow:Finished initializing TPU system.\n"
          ]
        },
        {
          "output_type": "stream",
          "name": "stderr",
          "text": [
            "INFO:tensorflow:Finished initializing TPU system.\n"
          ]
        },
        {
          "output_type": "stream",
          "name": "stdout",
          "text": [
            "INFO:tensorflow:Found TPU system:\n"
          ]
        },
        {
          "output_type": "stream",
          "name": "stderr",
          "text": [
            "INFO:tensorflow:Found TPU system:\n"
          ]
        },
        {
          "output_type": "stream",
          "name": "stdout",
          "text": [
            "INFO:tensorflow:*** Num TPU Cores: 8\n"
          ]
        },
        {
          "output_type": "stream",
          "name": "stderr",
          "text": [
            "INFO:tensorflow:*** Num TPU Cores: 8\n"
          ]
        },
        {
          "output_type": "stream",
          "name": "stdout",
          "text": [
            "INFO:tensorflow:*** Num TPU Workers: 1\n"
          ]
        },
        {
          "output_type": "stream",
          "name": "stderr",
          "text": [
            "INFO:tensorflow:*** Num TPU Workers: 1\n"
          ]
        },
        {
          "output_type": "stream",
          "name": "stdout",
          "text": [
            "INFO:tensorflow:*** Num TPU Cores Per Worker: 8\n"
          ]
        },
        {
          "output_type": "stream",
          "name": "stderr",
          "text": [
            "INFO:tensorflow:*** Num TPU Cores Per Worker: 8\n"
          ]
        },
        {
          "output_type": "stream",
          "name": "stdout",
          "text": [
            "INFO:tensorflow:*** Available Device: _DeviceAttributes(/job:localhost/replica:0/task:0/device:CPU:0, CPU, 0, 0)\n"
          ]
        },
        {
          "output_type": "stream",
          "name": "stderr",
          "text": [
            "INFO:tensorflow:*** Available Device: _DeviceAttributes(/job:localhost/replica:0/task:0/device:CPU:0, CPU, 0, 0)\n"
          ]
        },
        {
          "output_type": "stream",
          "name": "stdout",
          "text": [
            "INFO:tensorflow:*** Available Device: _DeviceAttributes(/job:worker/replica:0/task:0/device:CPU:0, CPU, 0, 0)\n"
          ]
        },
        {
          "output_type": "stream",
          "name": "stderr",
          "text": [
            "INFO:tensorflow:*** Available Device: _DeviceAttributes(/job:worker/replica:0/task:0/device:CPU:0, CPU, 0, 0)\n"
          ]
        },
        {
          "output_type": "stream",
          "name": "stdout",
          "text": [
            "INFO:tensorflow:*** Available Device: _DeviceAttributes(/job:worker/replica:0/task:0/device:TPU:0, TPU, 0, 0)\n"
          ]
        },
        {
          "output_type": "stream",
          "name": "stderr",
          "text": [
            "INFO:tensorflow:*** Available Device: _DeviceAttributes(/job:worker/replica:0/task:0/device:TPU:0, TPU, 0, 0)\n"
          ]
        },
        {
          "output_type": "stream",
          "name": "stdout",
          "text": [
            "INFO:tensorflow:*** Available Device: _DeviceAttributes(/job:worker/replica:0/task:0/device:TPU:1, TPU, 0, 0)\n"
          ]
        },
        {
          "output_type": "stream",
          "name": "stderr",
          "text": [
            "INFO:tensorflow:*** Available Device: _DeviceAttributes(/job:worker/replica:0/task:0/device:TPU:1, TPU, 0, 0)\n"
          ]
        },
        {
          "output_type": "stream",
          "name": "stdout",
          "text": [
            "INFO:tensorflow:*** Available Device: _DeviceAttributes(/job:worker/replica:0/task:0/device:TPU:2, TPU, 0, 0)\n"
          ]
        },
        {
          "output_type": "stream",
          "name": "stderr",
          "text": [
            "INFO:tensorflow:*** Available Device: _DeviceAttributes(/job:worker/replica:0/task:0/device:TPU:2, TPU, 0, 0)\n"
          ]
        },
        {
          "output_type": "stream",
          "name": "stdout",
          "text": [
            "INFO:tensorflow:*** Available Device: _DeviceAttributes(/job:worker/replica:0/task:0/device:TPU:3, TPU, 0, 0)\n"
          ]
        },
        {
          "output_type": "stream",
          "name": "stderr",
          "text": [
            "INFO:tensorflow:*** Available Device: _DeviceAttributes(/job:worker/replica:0/task:0/device:TPU:3, TPU, 0, 0)\n"
          ]
        },
        {
          "output_type": "stream",
          "name": "stdout",
          "text": [
            "INFO:tensorflow:*** Available Device: _DeviceAttributes(/job:worker/replica:0/task:0/device:TPU:4, TPU, 0, 0)\n"
          ]
        },
        {
          "output_type": "stream",
          "name": "stderr",
          "text": [
            "INFO:tensorflow:*** Available Device: _DeviceAttributes(/job:worker/replica:0/task:0/device:TPU:4, TPU, 0, 0)\n"
          ]
        },
        {
          "output_type": "stream",
          "name": "stdout",
          "text": [
            "INFO:tensorflow:*** Available Device: _DeviceAttributes(/job:worker/replica:0/task:0/device:TPU:5, TPU, 0, 0)\n"
          ]
        },
        {
          "output_type": "stream",
          "name": "stderr",
          "text": [
            "INFO:tensorflow:*** Available Device: _DeviceAttributes(/job:worker/replica:0/task:0/device:TPU:5, TPU, 0, 0)\n"
          ]
        },
        {
          "output_type": "stream",
          "name": "stdout",
          "text": [
            "INFO:tensorflow:*** Available Device: _DeviceAttributes(/job:worker/replica:0/task:0/device:TPU:6, TPU, 0, 0)\n"
          ]
        },
        {
          "output_type": "stream",
          "name": "stderr",
          "text": [
            "INFO:tensorflow:*** Available Device: _DeviceAttributes(/job:worker/replica:0/task:0/device:TPU:6, TPU, 0, 0)\n"
          ]
        },
        {
          "output_type": "stream",
          "name": "stdout",
          "text": [
            "INFO:tensorflow:*** Available Device: _DeviceAttributes(/job:worker/replica:0/task:0/device:TPU:7, TPU, 0, 0)\n"
          ]
        },
        {
          "output_type": "stream",
          "name": "stderr",
          "text": [
            "INFO:tensorflow:*** Available Device: _DeviceAttributes(/job:worker/replica:0/task:0/device:TPU:7, TPU, 0, 0)\n"
          ]
        },
        {
          "output_type": "stream",
          "name": "stdout",
          "text": [
            "INFO:tensorflow:*** Available Device: _DeviceAttributes(/job:worker/replica:0/task:0/device:TPU_SYSTEM:0, TPU_SYSTEM, 0, 0)\n"
          ]
        },
        {
          "output_type": "stream",
          "name": "stderr",
          "text": [
            "INFO:tensorflow:*** Available Device: _DeviceAttributes(/job:worker/replica:0/task:0/device:TPU_SYSTEM:0, TPU_SYSTEM, 0, 0)\n"
          ]
        },
        {
          "output_type": "stream",
          "name": "stdout",
          "text": [
            "INFO:tensorflow:*** Available Device: _DeviceAttributes(/job:worker/replica:0/task:0/device:XLA_CPU:0, XLA_CPU, 0, 0)\n"
          ]
        },
        {
          "output_type": "stream",
          "name": "stderr",
          "text": [
            "INFO:tensorflow:*** Available Device: _DeviceAttributes(/job:worker/replica:0/task:0/device:XLA_CPU:0, XLA_CPU, 0, 0)\n"
          ]
        }
      ],
      "source": [
        "# Check if Google Colab Instance for Setup\n",
        "print(\"Tensorflow version \" + tf.__version__)\n",
        "\n",
        "# Get correct path if on Google Colab\n",
        "try:\n",
        "\tfrom google.colab import drive\n",
        "\tdrive.mount(\"/content/drive\")\n",
        "\treviews_dataset_path = \"drive/MyDrive/Colab Notebooks/reviews.json\"\n",
        "\n",
        "\t# Get RAM Info\n",
        "\tfrom psutil import virtual_memory\n",
        "\tram_gb = virtual_memory().total / 1e9\n",
        "\tprint('Your runtime has {:.1f} gigabytes of available RAM'.format(ram_gb))\n",
        "\n",
        "\tif ram_gb < 20:\n",
        "\t\tprint('Not using a high-RAM runtime')\n",
        "\telse:\n",
        "\t\tprint('You are using a high-RAM runtime!')\n",
        "\n",
        "\ttry:\n",
        "\t\ttpu = tf.distribute.cluster_resolver.TPUClusterResolver() # TPU detection\n",
        "\t\tprint('Running on TPU ', tpu.cluster_spec().as_dict()['worker'])\n",
        "\n",
        "\t\ttf.config.experimental_connect_to_cluster(tpu)\n",
        "\t\ttf.tpu.experimental.initialize_tpu_system(tpu)\n",
        "\t\ttpu_strategy = tf.distribute.TPUStrategy(tpu)\n",
        "\n",
        "\t\tusing_tpu = True\n",
        "\texcept ValueError:\n",
        "\t\tprint(\"Note: Not connected to a TPU runtime.\")\n",
        "\t\tusing_tpu = False\n",
        "except ModuleNotFoundError:\n",
        "\treviews_dataset_path = \"yelp_dataset/reviews.json\"\n",
        "\tusing_tpu = False\n",
        "\n",
        "AUTO = tf.data.AUTOTUNE"
      ]
    },
    {
      "cell_type": "code",
      "execution_count": 3,
      "metadata": {
        "id": "NsuxbHGn5PxH"
      },
      "outputs": [],
      "source": [
        "# Read dataset into memory\n",
        "review_df = pd.read_json(reviews_dataset_path, orient=\"records\", lines=True)"
      ]
    },
    {
      "cell_type": "code",
      "execution_count": 4,
      "metadata": {
        "id": "FuZakueW5PxH"
      },
      "outputs": [],
      "source": [
        "# Shuffle Review df\n",
        "review_df = shuffle(review_df, random_state=0)\n",
        "\n",
        "# Slice into Train, Val, Test at 60:20:20\n",
        "n = len(review_df)\n",
        "df_train = review_df.iloc[: int(n*0.6)]\n",
        "df_val = review_df.iloc[int(n*0.6) : int(n*0.8)]\n",
        "df_test = review_df.iloc[int(n*0.8) :]"
      ]
    },
    {
      "cell_type": "code",
      "execution_count": 5,
      "metadata": {
        "id": "2VDEKEMh5PxI"
      },
      "outputs": [],
      "source": [
        "# Convert Pandas DF to TF Dataset\n",
        "if using_tpu:\n",
        "\t# TPU's really like big batches I guess. \n",
        "\t# By increasing the batch size by a factor of 128, I am seeing about a 4x speedup. \n",
        "\tbatch_size = 16 * 128 * tpu_strategy.num_replicas_in_sync\n",
        "else:\n",
        "\tbatch_size = 128\n",
        "\n",
        "def convert_text_df_to_dataset(df, input_col=\"text\", target_col=\"stars\"):\n",
        "\ttext_input = tf.convert_to_tensor(df[input_col], dtype=tf.string)\n",
        "\ttarget = tf.convert_to_tensor(df[target_col], dtype=tf.int8)\n",
        "\tdataset = tf.data.Dataset.from_tensor_slices((text_input, target))\n",
        "\tdataset = dataset.batch(batch_size).prefetch(AUTO)\n",
        "\treturn dataset\n",
        "\n",
        "train_dataset = convert_text_df_to_dataset(df_train)\n",
        "val_dataset = convert_text_df_to_dataset(df_val)\n",
        "test_dataset = convert_text_df_to_dataset(df_test)"
      ]
    },
    {
      "cell_type": "markdown",
      "metadata": {
        "id": "MJMVRzNi9NjH"
      },
      "source": [
        "## Train Model"
      ]
    },
    {
      "cell_type": "code",
      "execution_count": 6,
      "metadata": {
        "id": "LRLqLaNb9NjI"
      },
      "outputs": [],
      "source": [
        "# Build Model\n",
        "def create_model(max_tokens, model_name):\n",
        "\tinputs = keras.Input(shape=(max_tokens,))\n",
        "\tx = keras.layers.Dense(32, activation=\"relu\")(inputs)\n",
        "\tx = keras.layers.Dropout(0.25)(x)\n",
        "\tx = keras.layers.Dense(16, activation=\"relu\")(x)\n",
        "\tx = keras.layers.Dropout(0.25)(x)\n",
        "\tx = keras.layers.Dense(1)(x)\n",
        "\toutputs = keras.layers.ReLU(max_value=5, threshold=0)(x)\n",
        "\n",
        "\tmodel = keras.Model(inputs, outputs, name=model_name)\n",
        "\n",
        "\tmodel.compile(optimizer=\"rmsprop\", loss=\"mean_absolute_error\", metrics=[\"mean_squared_error\"])\n",
        "\n",
        "\treturn model"
      ]
    },
    {
      "cell_type": "markdown",
      "metadata": {
        "id": "FpoDsw8L9NjJ"
      },
      "source": [
        "### Single Word Vectorization"
      ]
    },
    {
      "cell_type": "code",
      "execution_count": 7,
      "metadata": {
        "id": "1w6XcKnv9NjK"
      },
      "outputs": [],
      "source": [
        "# Create TextVectorization\n",
        "max_tokens = 30000\n",
        "text_vectorization = TextVectorization(max_tokens=max_tokens, output_mode=\"multi_hot\")\n",
        "\n",
        "# Train Vectorizer on train text\n",
        "text_vectorization.adapt(df_train[\"text\"])\n",
        "\n",
        "# Vectorize Datasets\n",
        "train_dataset_vectorized = train_dataset.map(lambda x, y: (text_vectorization(x), y), num_parallel_calls=AUTO)\n",
        "val_dataset_vectorized = val_dataset.map(lambda x, y: (text_vectorization(x), y), num_parallel_calls=AUTO)\n",
        "test_dataset_vectorized = test_dataset.map(lambda x, y: (text_vectorization(x), y), num_parallel_calls=AUTO)"
      ]
    },
    {
      "cell_type": "code",
      "execution_count": 9,
      "metadata": {
        "colab": {
          "base_uri": "https://localhost:8080/"
        },
        "id": "CurWMIQQ5PxK",
        "outputId": "d3b1c2b7-27c0-4480-cab0-9627cadb294c"
      },
      "outputs": [
        {
          "output_type": "stream",
          "name": "stdout",
          "text": [
            "Epoch 1/20\n",
            "WARNING:tensorflow:From /usr/local/lib/python3.7/dist-packages/keras/engine/training.py:2970: StrategyBase.unwrap (from tensorflow.python.distribute.distribute_lib) is deprecated and will be removed in a future version.\n",
            "Instructions for updating:\n",
            "use `experimental_local_results` instead.\n"
          ]
        },
        {
          "output_type": "stream",
          "name": "stderr",
          "text": [
            "WARNING:tensorflow:From /usr/local/lib/python3.7/dist-packages/keras/engine/training.py:2970: StrategyBase.unwrap (from tensorflow.python.distribute.distribute_lib) is deprecated and will be removed in a future version.\n",
            "Instructions for updating:\n",
            "use `experimental_local_results` instead.\n"
          ]
        },
        {
          "output_type": "stream",
          "name": "stdout",
          "text": [
            "38/38 [==============================] - 34s 660ms/step - loss: 2.2414 - mean_squared_error: 7.4112 - val_loss: 1.4047 - val_mean_squared_error: 3.5290\n",
            "Epoch 2/20\n",
            "38/38 [==============================] - 26s 651ms/step - loss: 1.2071 - mean_squared_error: 2.9365 - val_loss: 0.7111 - val_mean_squared_error: 1.2041\n",
            "Epoch 3/20\n",
            "38/38 [==============================] - 27s 584ms/step - loss: 0.7542 - mean_squared_error: 1.4226 - val_loss: 0.5330 - val_mean_squared_error: 0.8361\n",
            "Epoch 4/20\n",
            "38/38 [==============================] - 26s 646ms/step - loss: 0.6022 - mean_squared_error: 1.0214 - val_loss: 0.4749 - val_mean_squared_error: 0.7128\n",
            "Epoch 5/20\n",
            "38/38 [==============================] - 26s 658ms/step - loss: 0.5327 - mean_squared_error: 0.8542 - val_loss: 0.4487 - val_mean_squared_error: 0.6570\n",
            "Epoch 6/20\n",
            "38/38 [==============================] - 27s 592ms/step - loss: 0.4928 - mean_squared_error: 0.7600 - val_loss: 0.4320 - val_mean_squared_error: 0.6228\n",
            "Epoch 7/20\n",
            "38/38 [==============================] - 27s 681ms/step - loss: 0.4662 - mean_squared_error: 0.7013 - val_loss: 0.4210 - val_mean_squared_error: 0.6052\n",
            "Epoch 8/20\n",
            "38/38 [==============================] - 26s 669ms/step - loss: 0.4478 - mean_squared_error: 0.6617 - val_loss: 0.4078 - val_mean_squared_error: 0.5809\n",
            "Epoch 9/20\n",
            "38/38 [==============================] - 26s 648ms/step - loss: 0.4349 - mean_squared_error: 0.6326 - val_loss: 0.4061 - val_mean_squared_error: 0.5780\n",
            "Epoch 10/20\n",
            "38/38 [==============================] - 26s 645ms/step - loss: 0.4252 - mean_squared_error: 0.6090 - val_loss: 0.4014 - val_mean_squared_error: 0.5710\n",
            "Epoch 11/20\n",
            "38/38 [==============================] - 26s 660ms/step - loss: 0.4175 - mean_squared_error: 0.5917 - val_loss: 0.4014 - val_mean_squared_error: 0.5740\n",
            "Epoch 12/20\n",
            "38/38 [==============================] - 25s 639ms/step - loss: 0.4112 - mean_squared_error: 0.5759 - val_loss: 0.4012 - val_mean_squared_error: 0.5699\n",
            "Epoch 13/20\n",
            "38/38 [==============================] - 29s 735ms/step - loss: 0.4052 - mean_squared_error: 0.5627 - val_loss: 0.3992 - val_mean_squared_error: 0.5673\n",
            "Epoch 00013: early stopping\n",
            "13/13 [==============================] - 4s 129ms/step - loss: 0.3972 - mean_squared_error: 0.5687\n",
            "Model vectorized_1gram with MAE 0.397 and MSE 0.569\n",
            "\n"
          ]
        }
      ],
      "source": [
        "model_name = \"vectorized_1gram\"\n",
        "\n",
        "# Creating the model in the TPUStrategy scope means we will train the model on the TPU\n",
        "if using_tpu:\n",
        "\twith tpu_strategy.scope():\n",
        "\t\tmodel = create_model(max_tokens, model_name)\n",
        "else:\n",
        "\tmodel = create_model(max_tokens, model_name)\n",
        "\n",
        "# Create callback to save model with a given name\n",
        "model_path = f\"models/{model_name}.keras\"\n",
        "callbacks = [\n",
        "\tkeras.callbacks.ModelCheckpoint(model_path, monitor='val_loss', save_best_only=True),\n",
        "\tkeras.callbacks.EarlyStopping(monitor='val_loss', min_delta=0.01, patience=5, verbose=1, restore_best_weights=False)\n",
        "]\n",
        "\n",
        "# Train Model\n",
        "model.fit(train_dataset_vectorized, validation_data=val_dataset_vectorized, epochs=20, callbacks=callbacks)\n",
        "\n",
        "# Evaluate Model after training\n",
        "model = keras.models.load_model(model_path)\n",
        "eval = model.evaluate(test_dataset_vectorized)\n",
        "\n",
        "# Output Model Metrics\n",
        "metrics_text = f\"Model {model_name} with MAE {eval[0]:.3f} and MSE {eval[1]:.3f}\\n\"\n",
        "print(metrics_text)\n",
        "with open(\"model_metrics.txt\", \"a\") as f:\n",
        "\tf.write(metrics_text)"
      ]
    },
    {
      "cell_type": "markdown",
      "metadata": {
        "id": "gvxNxzL29NjL"
      },
      "source": [
        "### Bigram Vectorization"
      ]
    },
    {
      "cell_type": "code",
      "execution_count": 10,
      "metadata": {
        "id": "vKxQrno59NjM"
      },
      "outputs": [],
      "source": [
        "# Create TextVectorization\n",
        "max_tokens = 30000\n",
        "text_vectorization_ngram = TextVectorization(max_tokens=max_tokens, ngrams=2, output_mode=\"multi_hot\")\n",
        "\n",
        "# Train Vectorizer on train text\n",
        "text_vectorization_ngram.adapt(df_train[\"text\"])\n",
        "\n",
        "# Vectorize Datasets\n",
        "train_dataset_vectorized = train_dataset.map(lambda x, y: (text_vectorization_ngram(x), y), num_parallel_calls=AUTO)\n",
        "val_dataset_vectorized = val_dataset.map(lambda x, y: (text_vectorization_ngram(x), y), num_parallel_calls=AUTO)\n",
        "test_dataset_vectorized = test_dataset.map(lambda x, y: (text_vectorization_ngram(x), y), num_parallel_calls=AUTO)"
      ]
    },
    {
      "cell_type": "code",
      "execution_count": 11,
      "metadata": {
        "colab": {
          "base_uri": "https://localhost:8080/"
        },
        "id": "xTzHziX89NjO",
        "outputId": "3779310f-8970-463c-86db-f304fb41d640"
      },
      "outputs": [
        {
          "output_type": "stream",
          "name": "stdout",
          "text": [
            "Epoch 1/20\n",
            "38/38 [==============================] - 32s 624ms/step - loss: 1.2777 - mean_squared_error: 3.3160 - val_loss: 0.5815 - val_mean_squared_error: 0.8973\n",
            "Epoch 2/20\n",
            "38/38 [==============================] - 26s 634ms/step - loss: 0.5901 - mean_squared_error: 0.9424 - val_loss: 0.4471 - val_mean_squared_error: 0.6217\n",
            "Epoch 3/20\n",
            "38/38 [==============================] - 28s 690ms/step - loss: 0.4874 - mean_squared_error: 0.7038 - val_loss: 0.4091 - val_mean_squared_error: 0.5410\n",
            "Epoch 4/20\n",
            "38/38 [==============================] - 28s 691ms/step - loss: 0.4430 - mean_squared_error: 0.6076 - val_loss: 0.3918 - val_mean_squared_error: 0.5068\n",
            "Epoch 5/20\n",
            "38/38 [==============================] - 28s 608ms/step - loss: 0.4175 - mean_squared_error: 0.5548 - val_loss: 0.3818 - val_mean_squared_error: 0.4896\n",
            "Epoch 6/20\n",
            "38/38 [==============================] - 26s 651ms/step - loss: 0.3988 - mean_squared_error: 0.5188 - val_loss: 0.3763 - val_mean_squared_error: 0.4876\n",
            "Epoch 7/20\n",
            "38/38 [==============================] - 26s 637ms/step - loss: 0.3835 - mean_squared_error: 0.4899 - val_loss: 0.3666 - val_mean_squared_error: 0.4695\n",
            "Epoch 8/20\n",
            "38/38 [==============================] - 26s 644ms/step - loss: 0.3737 - mean_squared_error: 0.4690 - val_loss: 0.3677 - val_mean_squared_error: 0.4827\n",
            "Epoch 9/20\n",
            "38/38 [==============================] - 29s 625ms/step - loss: 0.3651 - mean_squared_error: 0.4509 - val_loss: 0.3629 - val_mean_squared_error: 0.4686\n",
            "Epoch 10/20\n",
            "38/38 [==============================] - 27s 599ms/step - loss: 0.3600 - mean_squared_error: 0.4403 - val_loss: 0.3680 - val_mean_squared_error: 0.4759\n",
            "Epoch 11/20\n",
            "38/38 [==============================] - 26s 651ms/step - loss: 0.3535 - mean_squared_error: 0.4271 - val_loss: 0.3664 - val_mean_squared_error: 0.4810\n",
            "Epoch 12/20\n",
            "38/38 [==============================] - 28s 598ms/step - loss: 0.3494 - mean_squared_error: 0.4192 - val_loss: 0.3654 - val_mean_squared_error: 0.4697\n",
            "Epoch 00012: early stopping\n",
            "13/13 [==============================] - 4s 232ms/step - loss: 0.3612 - mean_squared_error: 0.4686\n",
            "Model vectorized_2gram with MAE 0.361 and MSE 0.469\n",
            "\n"
          ]
        }
      ],
      "source": [
        "model_name = \"vectorized_2gram\"\n",
        "\n",
        "# Creating the model in the TPUStrategy scope means we will train the model on the TPU\n",
        "if using_tpu:\n",
        "\twith tpu_strategy.scope():\n",
        "\t\tmodel = create_model(max_tokens, model_name)\n",
        "else:\n",
        "\tmodel = create_model(max_tokens, model_name)\n",
        "\n",
        "# Create callback to save model with a given name\n",
        "model_path = f\"models/{model_name}.keras\"\n",
        "callbacks = [\n",
        "\tkeras.callbacks.ModelCheckpoint(model_path, monitor='val_loss', save_best_only=True),\n",
        "\tkeras.callbacks.EarlyStopping(monitor='val_loss', min_delta=0.01, patience=5, verbose=1, restore_best_weights=False)\n",
        "]\n",
        "\n",
        "# Train Model\n",
        "model.fit(train_dataset_vectorized, validation_data=val_dataset_vectorized, epochs=20, callbacks=callbacks)\n",
        "\n",
        "# Evaluate Model after training\n",
        "model = keras.models.load_model(model_path)\n",
        "eval = model.evaluate(test_dataset_vectorized)\n",
        "\n",
        "# Output Model Metrics\n",
        "metrics_text = f\"Model {model_name} with MAE {eval[0]:.3f} and MSE {eval[1]:.3f}\\n\"\n",
        "print(metrics_text)\n",
        "with open(\"model_metrics.txt\", \"a\") as f:\n",
        "\tf.write(metrics_text)"
      ]
    },
    {
      "cell_type": "markdown",
      "metadata": {
        "id": "qcE4mKqC9NjO"
      },
      "source": [
        "### Term Frequency Inverse Document Frequency (TF-IDF) Vectorization"
      ]
    },
    {
      "cell_type": "code",
      "execution_count": 12,
      "metadata": {
        "id": "cdh83ikA9NjP"
      },
      "outputs": [],
      "source": [
        "# Create TextVectorization\n",
        "max_tokens = 30000\n",
        "text_vectorization_idf = TextVectorization(max_tokens=max_tokens, ngrams=2, output_mode=\"tf_idf\")\n",
        "\n",
        "# Train Vectorizer on train text\n",
        "text_vectorization_idf.adapt(df_train[\"text\"])\n",
        "\n",
        "# Vectorize Datasets\n",
        "train_dataset_vectorized = train_dataset.map(lambda x, y: (text_vectorization_idf(x), y), num_parallel_calls=AUTO)\n",
        "val_dataset_vectorized = val_dataset.map(lambda x, y: (text_vectorization_idf(x), y), num_parallel_calls=AUTO)\n",
        "test_dataset_vectorized = test_dataset.map(lambda x, y: (text_vectorization_idf(x), y), num_parallel_calls=AUTO)"
      ]
    },
    {
      "cell_type": "code",
      "execution_count": 13,
      "metadata": {
        "colab": {
          "base_uri": "https://localhost:8080/"
        },
        "id": "8FGhCn539NjP",
        "outputId": "14369713-3b5e-4a33-d2db-771368f8461e"
      },
      "outputs": [
        {
          "output_type": "stream",
          "name": "stdout",
          "text": [
            "Epoch 1/20\n",
            "38/38 [==============================] - 33s 659ms/step - loss: 1.0866 - mean_squared_error: 2.8102 - val_loss: 0.6228 - val_mean_squared_error: 1.1348\n",
            "Epoch 2/20\n",
            "38/38 [==============================] - 29s 625ms/step - loss: 0.6242 - mean_squared_error: 1.0965 - val_loss: 0.5126 - val_mean_squared_error: 0.8186\n",
            "Epoch 3/20\n",
            "38/38 [==============================] - 27s 654ms/step - loss: 0.5377 - mean_squared_error: 0.8614 - val_loss: 0.4897 - val_mean_squared_error: 0.7337\n",
            "Epoch 4/20\n",
            "38/38 [==============================] - 29s 717ms/step - loss: 0.4942 - mean_squared_error: 0.7448 - val_loss: 0.4675 - val_mean_squared_error: 0.6823\n",
            "Epoch 5/20\n",
            "38/38 [==============================] - 28s 692ms/step - loss: 0.4625 - mean_squared_error: 0.6674 - val_loss: 0.4394 - val_mean_squared_error: 0.6391\n",
            "Epoch 6/20\n",
            "38/38 [==============================] - 30s 648ms/step - loss: 0.4356 - mean_squared_error: 0.6069 - val_loss: 0.4288 - val_mean_squared_error: 0.6132\n",
            "Epoch 7/20\n",
            "38/38 [==============================] - 27s 666ms/step - loss: 0.4128 - mean_squared_error: 0.5641 - val_loss: 0.4064 - val_mean_squared_error: 0.5697\n",
            "Epoch 8/20\n",
            "38/38 [==============================] - 28s 676ms/step - loss: 0.3958 - mean_squared_error: 0.5291 - val_loss: 0.3922 - val_mean_squared_error: 0.5482\n",
            "Epoch 9/20\n",
            "38/38 [==============================] - 28s 611ms/step - loss: 0.3871 - mean_squared_error: 0.5059 - val_loss: 0.3989 - val_mean_squared_error: 0.5767\n",
            "Epoch 10/20\n",
            "38/38 [==============================] - 28s 683ms/step - loss: 0.3786 - mean_squared_error: 0.4873 - val_loss: 0.4002 - val_mean_squared_error: 0.5701\n",
            "Epoch 11/20\n",
            "38/38 [==============================] - 28s 680ms/step - loss: 0.3723 - mean_squared_error: 0.4741 - val_loss: 0.3935 - val_mean_squared_error: 0.5629\n",
            "Epoch 12/20\n",
            "38/38 [==============================] - 28s 608ms/step - loss: 0.3671 - mean_squared_error: 0.4634 - val_loss: 0.3888 - val_mean_squared_error: 0.5377\n",
            "Epoch 13/20\n",
            "38/38 [==============================] - 29s 631ms/step - loss: 0.3610 - mean_squared_error: 0.4498 - val_loss: 0.3919 - val_mean_squared_error: 0.5579\n",
            "Epoch 00013: early stopping\n",
            "13/13 [==============================] - 5s 143ms/step - loss: 0.3880 - mean_squared_error: 0.5407\n",
            "Model vectorized_idf with MAE 0.388 and MSE 0.541\n",
            "\n"
          ]
        }
      ],
      "source": [
        "model_name = \"vectorized_idf\"\n",
        "\n",
        "# Creating the model in the TPUStrategy scope means we will train the model on the TPU\n",
        "if using_tpu:\n",
        "\twith tpu_strategy.scope():\n",
        "\t\tmodel = create_model(max_tokens, model_name)\n",
        "else:\n",
        "\tmodel = create_model(max_tokens, model_name)\n",
        "\n",
        "# Create callback to save model with a given name\n",
        "model_path = f\"models/{model_name}.keras\"\n",
        "callbacks = [\n",
        "\tkeras.callbacks.ModelCheckpoint(model_path, monitor='val_loss', save_best_only=True),\n",
        "\tkeras.callbacks.EarlyStopping(monitor='val_loss', min_delta=0.01, patience=5, verbose=1, restore_best_weights=False)\n",
        "]\n",
        "\n",
        "# Train Model\n",
        "model.fit(train_dataset_vectorized, validation_data=val_dataset_vectorized, epochs=20, callbacks=callbacks)\n",
        "\n",
        "# Evaluate Model after training\n",
        "model = keras.models.load_model(model_path)\n",
        "eval = model.evaluate(test_dataset_vectorized)\n",
        "\n",
        "# Output Model Metrics\n",
        "metrics_text = f\"Model {model_name} with MAE {eval[0]:.3f} and MSE {eval[1]:.3f}\\n\"\n",
        "print(metrics_text)\n",
        "with open(\"model_metrics.txt\", \"a\") as f:\n",
        "\tf.write(metrics_text)"
      ]
    },
    {
      "cell_type": "markdown",
      "metadata": {
        "id": "zHSkABXa9NjR"
      },
      "source": [
        "### Categorical Classification"
      ]
    },
    {
      "cell_type": "code",
      "execution_count": 14,
      "metadata": {
        "id": "l-ycaHD89NjS"
      },
      "outputs": [],
      "source": [
        "# Build Model\n",
        "def create_model_categorical(max_tokens, model_name):\n",
        "\tinputs = keras.Input(shape=(max_tokens,))\n",
        "\tx = keras.layers.Dense(32, activation=\"relu\")(inputs)\n",
        "\tx = keras.layers.Dropout(0.25)(x)\n",
        "\tx = keras.layers.Dense(16, activation=\"relu\")(x)\n",
        "\tx = keras.layers.Dropout(0.25)(x)\n",
        "\toutputs = keras.layers.Dense(6, activation=\"softmax\")(x)\n",
        "\n",
        "\tmodel = keras.Model(inputs, outputs, name=model_name)\n",
        "\n",
        "\tmodel.compile(optimizer=\"rmsprop\", loss=\"sparse_categorical_crossentropy\", metrics=[\"sparse_categorical_accuracy\"])\n",
        "\n",
        "\treturn model"
      ]
    },
    {
      "cell_type": "code",
      "execution_count": 15,
      "metadata": {
        "colab": {
          "base_uri": "https://localhost:8080/"
        },
        "id": "FmMnCObF9NjS",
        "outputId": "1c01ad38-2bec-4e23-857b-b231fff38b4d"
      },
      "outputs": [
        {
          "output_type": "stream",
          "name": "stdout",
          "text": [
            "Epoch 1/20\n",
            "38/38 [==============================] - 35s 696ms/step - loss: 1.2180 - sparse_categorical_accuracy: 0.5747 - val_loss: 0.8445 - val_sparse_categorical_accuracy: 0.6914\n",
            "Epoch 2/20\n",
            "38/38 [==============================] - 28s 684ms/step - loss: 0.8770 - sparse_categorical_accuracy: 0.6842 - val_loss: 0.7208 - val_sparse_categorical_accuracy: 0.7307\n",
            "Epoch 3/20\n",
            "38/38 [==============================] - 29s 619ms/step - loss: 0.7740 - sparse_categorical_accuracy: 0.7150 - val_loss: 0.6613 - val_sparse_categorical_accuracy: 0.7473\n",
            "Epoch 4/20\n",
            "38/38 [==============================] - 27s 667ms/step - loss: 0.7081 - sparse_categorical_accuracy: 0.7338 - val_loss: 0.6583 - val_sparse_categorical_accuracy: 0.7497\n",
            "Epoch 5/20\n",
            "38/38 [==============================] - 28s 687ms/step - loss: 0.6642 - sparse_categorical_accuracy: 0.7467 - val_loss: 0.6432 - val_sparse_categorical_accuracy: 0.7519\n",
            "Epoch 6/20\n",
            "38/38 [==============================] - 30s 643ms/step - loss: 0.6329 - sparse_categorical_accuracy: 0.7561 - val_loss: 0.6404 - val_sparse_categorical_accuracy: 0.7535\n",
            "Epoch 7/20\n",
            "38/38 [==============================] - 28s 611ms/step - loss: 0.6039 - sparse_categorical_accuracy: 0.7654 - val_loss: 0.6394 - val_sparse_categorical_accuracy: 0.7445\n",
            "Epoch 8/20\n",
            "38/38 [==============================] - 28s 699ms/step - loss: 0.5839 - sparse_categorical_accuracy: 0.7714 - val_loss: 0.6410 - val_sparse_categorical_accuracy: 0.7519\n",
            "Epoch 9/20\n",
            "38/38 [==============================] - 29s 645ms/step - loss: 0.5640 - sparse_categorical_accuracy: 0.7782 - val_loss: 0.6539 - val_sparse_categorical_accuracy: 0.7487\n",
            "Epoch 10/20\n",
            "38/38 [==============================] - 26s 635ms/step - loss: 0.5495 - sparse_categorical_accuracy: 0.7829 - val_loss: 0.6737 - val_sparse_categorical_accuracy: 0.7415\n",
            "Epoch 00010: early stopping\n",
            "Model vectorized_categorical with MAE 0.303 and MSE 0.440\n",
            "\n"
          ]
        }
      ],
      "source": [
        "model_name = \"vectorized_categorical\"\n",
        "\n",
        "# Creating the model in the TPUStrategy scope means we will train the model on the TPU\n",
        "if using_tpu:\n",
        "\twith tpu_strategy.scope():\n",
        "\t\tmodel = create_model_categorical(max_tokens, model_name)\n",
        "else:\n",
        "\tmodel = create_model_categorical(max_tokens, model_name)\n",
        "\n",
        "# Create callback to save model with a given name\n",
        "model_path = f\"models/{model_name}.keras\"\n",
        "callbacks = [\n",
        "\tkeras.callbacks.ModelCheckpoint(model_path, monitor='val_loss', save_best_only=True),\n",
        "\tkeras.callbacks.EarlyStopping(monitor='val_loss', min_delta=0.01, patience=5, verbose=1, restore_best_weights=False)\n",
        "]\n",
        "\n",
        "# Train Model\n",
        "model.fit(train_dataset_vectorized, validation_data=val_dataset_vectorized, epochs=20, callbacks=callbacks)\n",
        "\n",
        "# Evaluate Model after training\n",
        "model = keras.models.load_model(model_path)\n",
        "predictions = model.predict(test_dataset_vectorized)\n",
        "predictions = np.argmax(predictions, axis = -1)\n",
        "true_labels = np.concatenate([y for _, y in test_dataset_vectorized], axis=0)\n",
        "mae = mean_absolute_error(true_labels, predictions)\n",
        "mse = mean_squared_error(true_labels, predictions)\n",
        "\n",
        "\n",
        "# Output Model Metrics\n",
        "metrics_text = f\"Model {model_name} with MAE {mae:.3f} and MSE {mse:.3f}\\n\"\n",
        "print(metrics_text)\n",
        "with open(\"model_metrics.txt\", \"a\") as f:\n",
        "\tf.write(metrics_text)"
      ]
    },
    {
      "cell_type": "code",
      "source": [
        "# Zip Models\n",
        "!zip -r \"models.zip\" \"models\""
      ],
      "metadata": {
        "colab": {
          "base_uri": "https://localhost:8080/"
        },
        "id": "BKuLjb-7JtIZ",
        "outputId": "199593be-0189-40b9-8b79-f8c82b51a9e0"
      },
      "execution_count": 17,
      "outputs": [
        {
          "output_type": "stream",
          "name": "stdout",
          "text": [
            "  adding: models/ (stored 0%)\n",
            "  adding: models/vectorized_idf.keras (deflated 15%)\n",
            "  adding: models/vectorized_categorical.keras (deflated 10%)\n",
            "  adding: models/vectorized_2gram.keras (deflated 7%)\n",
            "  adding: models/vectorized_1gram.keras (deflated 8%)\n"
          ]
        }
      ]
    },
    {
      "cell_type": "code",
      "execution_count": 18,
      "metadata": {
        "colab": {
          "base_uri": "https://localhost:8080/",
          "height": 17
        },
        "id": "mJX5SqEe9NjT",
        "outputId": "0856f953-fb20-485c-8273-378c8c1eb0b9"
      },
      "outputs": [
        {
          "output_type": "display_data",
          "data": {
            "application/javascript": [
              "\n",
              "    async function download(id, filename, size) {\n",
              "      if (!google.colab.kernel.accessAllowed) {\n",
              "        return;\n",
              "      }\n",
              "      const div = document.createElement('div');\n",
              "      const label = document.createElement('label');\n",
              "      label.textContent = `Downloading \"${filename}\": `;\n",
              "      div.appendChild(label);\n",
              "      const progress = document.createElement('progress');\n",
              "      progress.max = size;\n",
              "      div.appendChild(progress);\n",
              "      document.body.appendChild(div);\n",
              "\n",
              "      const buffers = [];\n",
              "      let downloaded = 0;\n",
              "\n",
              "      const channel = await google.colab.kernel.comms.open(id);\n",
              "      // Send a message to notify the kernel that we're ready.\n",
              "      channel.send({})\n",
              "\n",
              "      for await (const message of channel.messages) {\n",
              "        // Send a message to notify the kernel that we're ready.\n",
              "        channel.send({})\n",
              "        if (message.buffers) {\n",
              "          for (const buffer of message.buffers) {\n",
              "            buffers.push(buffer);\n",
              "            downloaded += buffer.byteLength;\n",
              "            progress.value = downloaded;\n",
              "          }\n",
              "        }\n",
              "      }\n",
              "      const blob = new Blob(buffers, {type: 'application/binary'});\n",
              "      const a = document.createElement('a');\n",
              "      a.href = window.URL.createObjectURL(blob);\n",
              "      a.download = filename;\n",
              "      div.appendChild(a);\n",
              "      a.click();\n",
              "      div.remove();\n",
              "    }\n",
              "  "
            ],
            "text/plain": [
              "<IPython.core.display.Javascript object>"
            ]
          },
          "metadata": {}
        },
        {
          "output_type": "display_data",
          "data": {
            "application/javascript": [
              "download(\"download_274f6928-8b04-42fb-898c-873f3a36e55b\", \"models.zip\", 27785580)"
            ],
            "text/plain": [
              "<IPython.core.display.Javascript object>"
            ]
          },
          "metadata": {}
        },
        {
          "output_type": "display_data",
          "data": {
            "application/javascript": [
              "\n",
              "    async function download(id, filename, size) {\n",
              "      if (!google.colab.kernel.accessAllowed) {\n",
              "        return;\n",
              "      }\n",
              "      const div = document.createElement('div');\n",
              "      const label = document.createElement('label');\n",
              "      label.textContent = `Downloading \"${filename}\": `;\n",
              "      div.appendChild(label);\n",
              "      const progress = document.createElement('progress');\n",
              "      progress.max = size;\n",
              "      div.appendChild(progress);\n",
              "      document.body.appendChild(div);\n",
              "\n",
              "      const buffers = [];\n",
              "      let downloaded = 0;\n",
              "\n",
              "      const channel = await google.colab.kernel.comms.open(id);\n",
              "      // Send a message to notify the kernel that we're ready.\n",
              "      channel.send({})\n",
              "\n",
              "      for await (const message of channel.messages) {\n",
              "        // Send a message to notify the kernel that we're ready.\n",
              "        channel.send({})\n",
              "        if (message.buffers) {\n",
              "          for (const buffer of message.buffers) {\n",
              "            buffers.push(buffer);\n",
              "            downloaded += buffer.byteLength;\n",
              "            progress.value = downloaded;\n",
              "          }\n",
              "        }\n",
              "      }\n",
              "      const blob = new Blob(buffers, {type: 'application/binary'});\n",
              "      const a = document.createElement('a');\n",
              "      a.href = window.URL.createObjectURL(blob);\n",
              "      a.download = filename;\n",
              "      div.appendChild(a);\n",
              "      a.click();\n",
              "      div.remove();\n",
              "    }\n",
              "  "
            ],
            "text/plain": [
              "<IPython.core.display.Javascript object>"
            ]
          },
          "metadata": {}
        },
        {
          "output_type": "display_data",
          "data": {
            "application/javascript": [
              "download(\"download_27aa52bb-0770-47b4-901f-45190186749e\", \"model_metrics.txt\", 212)"
            ],
            "text/plain": [
              "<IPython.core.display.Javascript object>"
            ]
          },
          "metadata": {}
        }
      ],
      "source": [
        "try: \n",
        "\tfrom google.colab import files\n",
        "\tfiles.download(\"models.zip\")\n",
        "\tfiles.download(\"model_metrics.txt\")\n",
        "except:\n",
        "\tpass"
      ]
    }
  ],
  "metadata": {
    "accelerator": "TPU",
    "colab": {
      "collapsed_sections": [],
      "name": "train_vectorized.ipynb",
      "provenance": []
    },
    "interpreter": {
      "hash": "aee8b7b246df8f9039afb4144a1f6fd8d2ca17a180786b69acc140d282b71a49"
    },
    "kernelspec": {
      "display_name": "Python 3.9.10 64-bit",
      "language": "python",
      "name": "python3"
    },
    "language_info": {
      "codemirror_mode": {
        "name": "ipython",
        "version": 3
      },
      "file_extension": ".py",
      "mimetype": "text/x-python",
      "name": "python",
      "nbconvert_exporter": "python",
      "pygments_lexer": "ipython3",
      "version": "3.9.10"
    },
    "orig_nbformat": 4
  },
  "nbformat": 4,
  "nbformat_minor": 0
}